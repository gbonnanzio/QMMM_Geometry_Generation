{
 "cells": [
  {
   "cell_type": "code",
   "execution_count": 1,
   "metadata": {},
   "outputs": [
    {
     "name": "stderr",
     "output_type": "stream",
     "text": [
      "c:\\Users\\gbonn\\anaconda3\\envs\\md-env\\Lib\\site-packages\\tqdm\\auto.py:21: TqdmWarning: IProgress not found. Please update jupyter and ipywidgets. See https://ipywidgets.readthedocs.io/en/stable/user_install.html\n",
      "  from .autonotebook import tqdm as notebook_tqdm\n"
     ]
    }
   ],
   "source": [
    "import MDAnalysis as mda\n",
    "import numpy as np\n",
    "import os\n",
    "import shutil\n",
    "import csv\n",
    "import networkx as nx\n",
    "from utils import *\n",
    "import warnings \n",
    "\n",
    "# Suppress warnings specific to MDAnalysis\n",
    "warnings.filterwarnings(\"ignore\", category=UserWarning, module=\"MDAnalysis\")\n",
    "\n",
    "# dictionary of charged protein residues with key being the Amber resname and the value being the net charge of that residue\n",
    "residue_charge_dict = {'ARG':1,'LYS':1,'ASP':-1,'GLU':-1,'MG':2,'ThDP':-3}"
   ]
  },
  {
   "cell_type": "markdown",
   "metadata": {},
   "source": [
    "The purpose of this script is to read in the end point of an int1 to DMC (Donor Michaelis-Complex) scan and remake the MM parameters for the unbound donor. This way we can follow the scan with an MM minimization where the donor can move and the ThDP is kept fixed. This script will identify what atoms in INI (intermediate 1) are the donor and what atoms are ThDP. It will then rename the residues and call a bash script to run the AMBER commands to get the new set of parameters. It will also create the MM optimization script"
   ]
  },
  {
   "cell_type": "code",
   "execution_count": 20,
   "metadata": {},
   "outputs": [
    {
     "name": "stdout",
     "output_type": "stream",
     "text": [
      "File 'donor.pdb' has been written in 'temp_structures/'.\n",
      "File 'TPP.pdb' has been written in 'temp_structures/'.\n"
     ]
    }
   ],
   "source": [
    "head_dir = 'temp_structures/'\n",
    "curr_substrate= '6'\n",
    "\n",
    "substrate_base_charge = -1  \n",
    "starting_intermediate = 'INI'\n",
    "ending_intermediate = 'DON'\n",
    "\n",
    "working_dir = head_dir \n",
    "# read in endpoint of the scan \n",
    "donor_substrate = curr_substrate\n",
    "complex = mda.Universe(working_dir + '/tmp.pdb')\n",
    "QM_resids = [1113,1114]\n",
    "MM_resids = [30,31,32,33,34,78,79,80,82,107,117,118,175,946,947,948,950,951,969,971,972,974,999,1000,1003,1028,1030,1031,1034,1045,1113,1114,1225,1919,2292,2529,2894,3100,3475,3645,3670,3953,4130,4203,4248,4262,4328,4363,4548,5237,5303,5351,5422] #read_resids_from_csv(working_dir + 'prep/QM_2_and_10A_Active_residues.csv') \n",
    "\n",
    "# Get the charge of the QM and MM systems \n",
    "if curr_substrate in ['4','6','11','16']:\n",
    "    additional_charge = -1\n",
    "else:\n",
    "    additional_charge = 0\n",
    "\n",
    "residue_charge_dict[ending_intermediate] = substrate_base_charge + additional_charge\n",
    "\n",
    "# get the complex atoms \n",
    "ini = complex.select_atoms(\"resname \" + starting_intermediate)\n",
    "\n",
    "# guess bonds based on vDW distances (this is not recommended)\n",
    "ini_bond_connectivity = mda.topology.core.guess_bonds(ini.atoms,ini.positions)\n",
    "\n",
    "# Create a graph where nodes are atom indices and edges are bonds\n",
    "ini_graph = nx.Graph()\n",
    "ini_graph.add_edges_from(ini_bond_connectivity)\n",
    "\n",
    "# Find connected components\n",
    "connected_components = list(nx.connected_components(ini_graph))\n",
    "connected_components = sorted(connected_components,key=len)\n",
    "donor_indexes = list(connected_components[0])\n",
    "ThDP_indexes = list(connected_components[1])\n",
    "\n",
    "# redesignate donor and ThDP indexes\n",
    "donor = complex.select_atoms(f\"index {' or index '.join(map(str, donor_indexes))}\")\n",
    "for atom in donor.atoms:\n",
    "    atom.residue.resid = 1\n",
    "    atom.residue.resname = \"DON\"\n",
    "    atom.record_type = \"HETATM\"\n",
    "write_universe(\"temp_structures/\",\"donor.pdb\",donor)\n",
    "ThDP = complex.select_atoms(f\"index {' or index '.join(map(str, ThDP_indexes))}\")\n",
    "for atom in ThDP.atoms:\n",
    "    atom.residue.resid = 1\n",
    "    atom.residue.resname = \"TPP\"\n",
    "    atom.record_type = \"HETATM\"\n",
    "write_universe(\"temp_structures/\",\"TPP.pdb\",ThDP)\n",
    "\n",
    "\n"
   ]
  }
 ],
 "metadata": {
  "kernelspec": {
   "display_name": "md-env",
   "language": "python",
   "name": "python3"
  },
  "language_info": {
   "codemirror_mode": {
    "name": "ipython",
    "version": 3
   },
   "file_extension": ".py",
   "mimetype": "text/x-python",
   "name": "python",
   "nbconvert_exporter": "python",
   "pygments_lexer": "ipython3",
   "version": "3.12.5"
  }
 },
 "nbformat": 4,
 "nbformat_minor": 2
}

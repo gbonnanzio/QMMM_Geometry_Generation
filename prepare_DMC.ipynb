{
 "cells": [
  {
   "cell_type": "code",
   "execution_count": 1,
   "metadata": {},
   "outputs": [
    {
     "name": "stderr",
     "output_type": "stream",
     "text": [
      "c:\\Users\\gbonn\\anaconda3\\envs\\md-env\\Lib\\site-packages\\tqdm\\auto.py:21: TqdmWarning: IProgress not found. Please update jupyter and ipywidgets. See https://ipywidgets.readthedocs.io/en/stable/user_install.html\n",
      "  from .autonotebook import tqdm as notebook_tqdm\n"
     ]
    }
   ],
   "source": [
    "import MDAnalysis as mda\n",
    "import numpy as np\n",
    "import os\n",
    "import shutil\n",
    "import csv\n",
    "import networkx as nx\n",
    "from utils import *\n",
    "import warnings \n",
    "\n",
    "# Suppress warnings specific to MDAnalysis\n",
    "warnings.filterwarnings(\"ignore\", category=UserWarning, module=\"MDAnalysis\")\n",
    "\n",
    "# dictionary of charged protein residues with key being the Amber resname and the value being the net charge of that residue\n",
    "residue_charge_dict = {'ARG':1,'LYS':1,'ASP':-1,'GLU':-1,'MG':2,'ThDP':-3}"
   ]
  },
  {
   "cell_type": "markdown",
   "metadata": {},
   "source": [
    "The purpose of this script is to read in the end point of an int1 to DMC (Donor Michaelis-Complex) scan and remake the MM parameters for the unbound donor. This way we can follow the scan with an MM minimization where the donor can move and the ThDP is kept fixed. This script will identify what atoms in INI (intermediate 1) are the donor and what atoms are ThDP. It will then rename the residues and call a bash script to run the AMBER commands to get the new set of parameters. It will also create the MM optimization script"
   ]
  },
  {
   "cell_type": "code",
   "execution_count": 8,
   "metadata": {},
   "outputs": [
    {
     "name": "stdout",
     "output_type": "stream",
     "text": [
      "41\n"
     ]
    }
   ],
   "source": [
    "head_dir = 'temp_structures/'\n",
    "curr_substrate= '6'\n",
    "\n",
    "substrate_base_charge = -1  \n",
    "starting_intermediate = 'INI'\n",
    "ending_intermediate = 'DON'\n",
    "\n",
    "working_dir = head_dir \n",
    "# read in endpoint of the scan \n",
    "donor_substrate = curr_substrate\n",
    "complex = mda.Universe(working_dir + '/tmp.pdb')\n",
    "QM_resids = [1113,1114]\n",
    "MM_resids = [30,31,32,33,34,78,79,80,82,107,117,118,175,946,947,948,950,951,969,971,972,974,999,1000,1003,1028,1030,1031,1034,1045,1113,1114,1225,1919,2292,2529,2894,3100,3475,3645,3670,3953,4130,4203,4248,4262,4328,4363,4548,5237,5303,5351,5422] #read_resids_from_csv(working_dir + 'prep/QM_2_and_10A_Active_residues.csv') \n",
    "\n",
    "# Get the charge of the QM and MM systems \n",
    "if curr_substrate in ['4','6','11','16']:\n",
    "    additional_charge = -1\n",
    "else:\n",
    "    additional_charge = 0\n",
    "\n",
    "residue_charge_dict[ending_intermediate] = substrate_base_charge + additional_charge\n",
    "\n",
    "# get the complex atoms \n",
    "ini = complex.select_atoms(\"resname \" + starting_intermediate)\n",
    "\n",
    "# guess bonds based on vDW distances (this is not recommended)\n",
    "ini_bond_connectivity = mda.topology.core.guess_bonds(ini.atoms,ini.positions)\n",
    "\n",
    "# Create a graph where nodes are atom indices and edges are bonds\n",
    "ini_graph = nx.Graph()\n",
    "ini_graph.add_edges_from(ini_bond_connectivity)\n",
    "\n",
    "# Find connected components\n",
    "connected_components = list(nx.connected_components(ini_graph))\n",
    "\n"
   ]
  },
  {
   "cell_type": "code",
   "execution_count": 3,
   "metadata": {},
   "outputs": [
    {
     "name": "stdout",
     "output_type": "stream",
     "text": [
      "((17268, 17269), (17268, 17277), (17268, 17279), (17269, 17270), (17269, 17280), (17270, 17271), (17270, 17272), (17270, 17273), (17271, 17274), (17271, 17275), (17271, 17276), (17274, 17278), (17274, 17281), (17282, 17283), (17282, 17286), (17283, 17284), (17284, 17285), (17284, 17305), (17285, 17286), (17285, 17307), (17286, 17287), (17287, 17288), (17287, 17308), (17287, 17309), (17288, 17289), (17288, 17310), (17288, 17311), (17289, 17290), (17290, 17293), (17290, 17296), (17290, 17299), (17291, 17294), (17291, 17297), (17291, 17299), (17291, 17300), (17292, 17295), (17292, 17304), (17295, 17298), (17295, 17306), (17298, 17301), (17301, 17302), (17301, 17303), (17302, 17312), (17302, 17313), (17303, 17304), (17303, 17305), (17304, 17314), (17305, 17315), (17305, 17316), (17306, 17317), (17306, 17318), (17306, 17319), (17307, 17320), (17307, 17321), (17307, 17322))\n"
     ]
    }
   ],
   "source": []
  },
  {
   "cell_type": "code",
   "execution_count": 6,
   "metadata": {},
   "outputs": [
    {
     "name": "stdout",
     "output_type": "stream",
     "text": [
      "14\n"
     ]
    }
   ],
   "source": [
    "# Create a graph where nodes are atom indices and edges are bonds\n",
    "G = nx.Graph()\n",
    "G.add_edges_from(ini_bond_connectivity)\n",
    "\n",
    "# Find connected components\n",
    "connected_components = list(nx.connected_components(G))\n",
    "print(len(connected_components[0]))"
   ]
  },
  {
   "cell_type": "code",
   "execution_count": null,
   "metadata": {},
   "outputs": [],
   "source": [
    "\n",
    "# Print results\n",
    "print(f\"Number of connected segments: {len(connected_components)}\")\n",
    "\n",
    "# Print each segment's atoms\n",
    "for i, component in enumerate(connected_components):\n",
    "    atoms = [ini.atoms[idx].name for idx in component]\n",
    "    print(f\"Segment {i+1}: {atoms}\")\n",
    "\n",
    "# Check if residue is fully connected\n",
    "if len(connected_components) > 1:\n",
    "    print(\"Warning: The residue has multiple disconnected segments!\")\n",
    "else:\n",
    "    print(\"The residue is fully connected.\")"
   ]
  },
  {
   "cell_type": "code",
   "execution_count": null,
   "metadata": {},
   "outputs": [],
   "source": [
    "\n",
    "receptor = complex.select_atoms(\"not resname \" + starting_intermediate)\n",
    "atom_dict = get_ini_indexes(ini)\n",
    "\n",
    "\n",
    "# get the index of these atoms in the context of the complex universe\n",
    "C1_index = ini.atoms[atom_dict['C1']].index\n",
    "C2_index = ini.atoms[atom_dict['C2']].index\n",
    "C3_index = ini.atoms[atom_dict['C3']].index\n",
    "O1_index = ini.atoms[atom_dict['O1']].index\n",
    "O2_index = ini.atoms[atom_dict['CO2_0']].index\n",
    "O3_index = ini.atoms[atom_dict['CO2_1']].index\n",
    "\n",
    "'''    \n",
    "# guess the position of the hydrogen atom that we want to add\n",
    "C1_coords = complex.atoms[C1_index].position\n",
    "C2_coords = complex.atoms[C2_index].position\n",
    "O1_coords = complex.atoms[O1_index].position\n",
    "vector_C1_to_C2 = C2_coords - C1_coords\n",
    "unit_vector = vector_C1_to_C2 / np.linalg.norm(vector_C1_to_C2)\n",
    "guess_H1_coords = O1_coords + unit_vector * bond_dists['O-H'] # C2 should be located 1.54 A away from C1\n",
    "\n",
    "# creat a new universe for H\n",
    "H_u = mda.Universe.empty(1,\n",
    "                            n_residues=1,\n",
    "                            trajectory=True) # necessary for adding coordinates\n",
    "H_count = np.count_nonzero(ini.atoms.types == 'H')\n",
    "H_u.add_TopologyAttr('name',['H'+str(H_count)])\n",
    "H_u.add_TopologyAttr('type', ['H'])\n",
    "H_u.add_TopologyAttr('resname', [starting_intermediate])\n",
    "H_u.add_TopologyAttr('resid', [ini.resids[0]])\n",
    "H_u.atoms.positions = [guess_H1_coords]\n",
    "'''\n",
    "\n",
    "indices_to_remove = [C3_index,O2_index,O3_index]\n",
    "# Select atoms to keep (all atoms excluding the ones in indices_to_remove)\n",
    "mask = ~np.isin(ini.atoms.indices, indices_to_remove)\n",
    "atoms_to_keep = ini.atoms[mask]\n",
    "modified_ini_universe = mda.Merge(atoms_to_keep)\n",
    "\n",
    "# write a pdb for just the INO molecule\n",
    "output_dir = working_dir + 'int2/prep/' \n",
    "\n",
    "#ino_universe = mda.Merge(modified_ini_universe.atoms,H_u.atoms)\n",
    "\n",
    "ino_universe = modified_ini_universe\n",
    "for atom in ino_universe.atoms:\n",
    "    atom.residue.resid = ini.resids[0]\n",
    "    atom.residue.resname = ending_intermediate\n",
    "\n",
    "write_universe(output_dir,'ino.pdb',ino_universe)\n",
    "\n",
    "# add the substrate and ThDP to a single universe\n",
    "ino_complex = mda.Merge(receptor.atoms,ino_universe.atoms)\n",
    "\n",
    "write_universe(output_dir,'ino_complex.pdb',ino_complex)\n",
    "edit_protein_files(output_dir,'ino_complex.pdb')\n",
    "\n",
    "# Run the bash script from the specified directory\n",
    "\n",
    "result = subprocess.run(\n",
    "    [\"bash\", \"/expanse/lustre/projects/nwu118/gbonnanzio/Generate_QMMM_Geometries/scripts/assemble_int2.sh\", str(residue_charge_dict[ending_intermediate]), output_dir],\n",
    "    cwd=head_dir,\n",
    "    capture_output=True,\n",
    "    text=True\n",
    ")\n",
    "\n",
    "if result.returncode != 0:\n",
    "    print('ERROR WITH tleap')\n",
    "    print(result.stderr)  # Print the error output\n",
    "else:\n",
    "    print('tleap was successful')\n",
    "    #print(result.stdout)  # Print the normal output\n",
    "\n",
    "\n",
    "# read back in the amber generated structure that will fix resids \n",
    "mm_output_dir = working_dir + 'int2/mm_opt/'\n",
    "ino_complex = mda.Universe(mm_output_dir + 'qm_complex.pdb')\n",
    "\n",
    "# get charge of MM region \n",
    "MM_charge = 0\n",
    "for residue in ino_complex.residues:\n",
    "    curr_resname = residue.resname\n",
    "    if curr_resname in residue_charge_dict:\n",
    "        MM_charge += residue_charge_dict[curr_resname]\n",
    "        \n",
    "print('Charge of entire system:',MM_charge)\n",
    "\n",
    "# get the MM atom indexes\n",
    "MM_atom_indexes = get_atoms_by_reslist(ino_complex,MM_resids)\n",
    "# simplify lists to write to file\n",
    "MM_list = simplify_integer_list(MM_atom_indexes)\n",
    "\n",
    "# output the MM script\n",
    "write_MM_orca_script(MM_list,MM_charge,mm_output_dir,'mm_opt.inp')\n",
    "shutil.copy('scripts/template_orca_job_expanse.sh',mm_output_dir + 'orca_job_expanse.sh')\n",
    "\n",
    "# calculate the charge of our system\n",
    "total_QM_charge = 0\n",
    "# get charge of QM region \n",
    "for residue in QM_resids:\n",
    "    print(residue)\n",
    "    resname = ino_complex.residues[residue-1].resname\n",
    "    print(resname)\n",
    "    if resname in residue_charge_dict:\n",
    "        total_QM_charge += residue_charge_dict[resname]\n",
    "    \n",
    "QM_atoms = ino_complex.select_atoms('resid ' + ' or resid '.join([str(i) for i in QM_resids]))\n",
    "QM_residues = set([i.residue for i in QM_atoms])\n",
    "active_atoms = ino_complex.select_atoms('resid ' + ' or resid '.join([str(i) for i in active_resids]))\n",
    "active_residues = set([i.residue for i in active_atoms])\n",
    "QM_atoms_indexes = get_atoms_by_reslist(ino_complex,QM_resids)\n",
    "active_atoms_indexes = get_atoms_by_reslist(ino_complex,active_resids)\n",
    "\n",
    "QM_list = simplify_integer_list(QM_atoms_indexes)\n",
    "active_list = simplify_integer_list(active_atoms_indexes)\n",
    "\n",
    "fixed_atoms = extract_fixed_atoms(working_dir + '/opt/opt.out')\n",
    "threshold_index = ini_max_index - 3\n",
    "fixed_atoms_modified = []\n",
    "for fixed_atom in fixed_atoms:\n",
    "    if fixed_atom > threshold_index:\n",
    "        fixed_atoms_modified.append(fixed_atom-3)\n",
    "    else:\n",
    "        fixed_atoms_modified.append(fixed_atom)\n",
    "    \n",
    "fixed_atoms_list = simplify_integer_list(fixed_atoms_modified)\n",
    "\n",
    "qm_output_dir = working_dir + 'int2/opt/'\n",
    "write_QMMM_orca_script(QM_list,active_list,total_QM_charge,qm_output_dir,'opt.inp',fixed_atoms_list)"
   ]
  }
 ],
 "metadata": {
  "kernelspec": {
   "display_name": "md-env",
   "language": "python",
   "name": "python3"
  },
  "language_info": {
   "codemirror_mode": {
    "name": "ipython",
    "version": 3
   },
   "file_extension": ".py",
   "mimetype": "text/x-python",
   "name": "python",
   "nbconvert_exporter": "python",
   "pygments_lexer": "ipython3",
   "version": "3.12.5"
  }
 },
 "nbformat": 4,
 "nbformat_minor": 2
}

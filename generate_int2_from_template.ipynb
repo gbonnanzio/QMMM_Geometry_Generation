{
 "cells": [
  {
   "cell_type": "markdown",
   "metadata": {},
   "source": [
    "This code is based on the optimized structure of a homo-coupled 6-6 (akg) reaction in MenD (5EJ5) The idea is to keep the ThDP-bound product structure and use this code to only replace the R groups. "
   ]
  },
  {
   "cell_type": "code",
   "execution_count": 8,
   "metadata": {},
   "outputs": [],
   "source": [
    "import MDAnalysis as mda\n",
    "from MDAnalysis.core.universe import Merge\n",
    "import numpy as np\n",
    "import os\n",
    "from utils import *\n",
    "import warnings \n",
    "import matplotlib.pyplot as plt\n",
    "\n",
    "# Suppress warnings specific to MDAnalysis\n",
    "warnings.filterwarnings(\"ignore\", category=UserWarning, module=\"MDAnalysis\")"
   ]
  },
  {
   "cell_type": "code",
   "execution_count": 9,
   "metadata": {},
   "outputs": [],
   "source": [
    "# calculate vectors for the direction of each R group\n",
    "# P denotes prime, the atom of the acceptor molecule \n",
    "C2_coords = np.array([53.928, 58.786, 65.830])\n",
    "R_coords = np.array([52.467, 59.121, 65.821])\n",
    "\n",
    "C2_R_vec = R_coords - C2_coords\n",
    "C2R_unit = C2_R_vec / np.linalg.norm(C2_R_vec)"
   ]
  },
  {
   "cell_type": "code",
   "execution_count": 10,
   "metadata": {},
   "outputs": [],
   "source": [
    "# define the coordinates of the heavy atom R groups for the donor and acceptor from the optimized geometry\n",
    "# We will find the average plane through these points and try to match the normal of that plane when we replace \n",
    "# the new R groups for donor and acceptor\n",
    "\n",
    "donor_heavy_atom_R_coords = np.array([[53.928, 58.786, 65.830],\n",
    "                                      [52.467, 59.121, 65.821],\n",
    "                                      [52.204, 60.607, 65.497],\n",
    "                                      [50.704, 60.846, 65.630],\n",
    "                                      [50.255, 61.130, 66.758],\n",
    "                                      [49.981, 60.697, 64.608]])\n",
    "\n",
    "# Calculate the average plane of our template R groups \n",
    "donor_normal, donor_centroid = calculate_average_plane(donor_heavy_atom_R_coords)"
   ]
  },
  {
   "cell_type": "code",
   "execution_count": 11,
   "metadata": {},
   "outputs": [],
   "source": [
    "# Calculate the average plane of our template R groups \n",
    "donor_normal, donor_centroid = calculate_average_plane(donor_heavy_atom_R_coords)\n"
   ]
  },
  {
   "cell_type": "code",
   "execution_count": 12,
   "metadata": {},
   "outputs": [
    {
     "name": "stdout",
     "output_type": "stream",
     "text": [
      "File 'protein.pdb' has been written in '5EJ5/int2_modified/receptor/'.\n",
      "Edited  5EJ5/int2_modified/receptor/protein.pdb  for Amber\n",
      "File 'water.pdb' has been written in '5EJ5/int2_modified/receptor/'.\n",
      "File 'receptor.pdb' has been written in '5EJ5/int2_modified/receptor/'.\n",
      "Edited  5EJ5/int2_modified/receptor/receptor.pdb  for Amber\n"
     ]
    }
   ],
   "source": [
    "# load receptor universe and extract the different parts of the protein int1 receptor \n",
    "head_dir = '5EJ5/int2_modified/'\n",
    "receptor = mda.Universe(head_dir+'template.pdb')\n",
    "\n",
    "output_dir = head_dir #'/Users/gbonn/OneDrive - Northwestern University/Bonnanzio Geoffrey/04 Raw Data/Generate_QMMM_Geometries/5EJ5/int3/'\n",
    "\n",
    "# output the ThDP cofactor\n",
    "inp_base = receptor.select_atoms(\"resname INP\")\n",
    "#write_universe(output_dir +'receptor/','INP.pdb',ThDP)\n",
    "\n",
    "# output just the protein and edit the file so it is Amber readable \n",
    "protein = receptor.select_atoms(f\"protein or resname MG\")\n",
    "write_universe(output_dir  + 'receptor/','protein.pdb',protein)\n",
    "edit_protein_files(output_dir + 'receptor/','protein.pdb')\n",
    "\n",
    "# output the water\n",
    "try:\n",
    "    water = receptor.select_atoms(f\"resname WAT\")\n",
    "    write_universe(output_dir + 'receptor/','water.pdb',water)\n",
    "except:\n",
    "    print('No water to write')\n",
    "\n",
    "# output the receptor (everything besides ThDP)\n",
    "protein_MG_water = receptor.select_atoms(\"not resname INP\")\n",
    "write_universe(output_dir  + 'receptor/','receptor.pdb',protein_MG_water)\n",
    "edit_protein_files(output_dir  + 'receptor/','receptor.pdb')"
   ]
  },
  {
   "cell_type": "code",
   "execution_count": 13,
   "metadata": {},
   "outputs": [],
   "source": [
    "def diff_btwn_planes(normal_1,normal_2):\n",
    "    # Normalize the normals\n",
    "    n1 = normal_1 / np.linalg.norm(normal_1)\n",
    "    n2 = normal_2 / np.linalg.norm(normal_2)\n",
    "    \n",
    "    # Calculate angle between normals\n",
    "    dot_product = np.dot(n1, n2)\n",
    "    angle = np.arccos(np.clip(dot_product, -1.0, 1.0))\n",
    "    \n",
    "    return angle\n",
    "\n",
    "def rotation_objective(angle,md_universe,fixed_index_1,fixed_index_2,rotating_atom_indexes,reference_plane_normal,reference_plane_centroid):\n",
    "    rotated_donor = rotate_atoms(md_universe, fixed_index_1,fixed_index_2,rotating_atom_indexes,angle)\n",
    "    atom_positions = []\n",
    "    for i in range(0,len(rotated_donor.atoms)):\n",
    "        if rotated_donor.atoms[i].type != 'H':\n",
    "            atom_positions.append(rotated_donor.atoms[i].position)\n",
    "    plane_normal, plane_centroid = calculate_average_plane(np.array(atom_positions))\n",
    "    angle_between_planes = diff_btwn_planes(plane_normal,reference_plane_normal)\n",
    "    dist_between_centroid = get_dist(plane_centroid,reference_plane_centroid)\n",
    "    return angle_between_planes+dist_between_centroid\n",
    "\n",
    "def optimize_rotation(initial_angle,md_universe:mda.core.universe.Universe,fixed_index_1:int,fixed_index_2:int,rotating_atom_indexes:list,reference_plane_normal:np.ndarray,reference_plane_centroid:np.ndarray):\n",
    "    # Set up optimization\n",
    "    tolerance = 1e-12\n",
    "    result = minimize(\n",
    "        rotation_objective,\n",
    "        initial_angle,\n",
    "        args=(md_universe.copy(),fixed_index_1,fixed_index_2,rotating_atom_indexes,reference_plane_normal,reference_plane_centroid),\n",
    "        tol=tolerance,\n",
    "        method='Nelder-Mead'\n",
    "    )\n",
    "    # Check for successful optimization\n",
    "    if result.success:\n",
    "        print('ROTATION CONVERGED')\n",
    "    else:\n",
    "        print('ROTATION NOT CONVERGED')\n",
    "    rotated_structure = rotate_atoms(md_universe.copy(), fixed_index_1,fixed_index_2,rotating_atom_indexes, result.x[0])\n",
    "    #rotated_structure = rotate_atoms(md_universe.copy(), fixed_index_1,fixed_index_2,rotating_atom_indexes, 270)\n",
    "\n",
    "    return rotated_structure\n",
    "\n",
    "def find_atom_in_new_universe(md_universe,check_coords):\n",
    "    min_dist = 10**6 \n",
    "    for i in range(0,len(md_universe.atoms)):\n",
    "        curr_pos = md_universe.atoms[i].position\n",
    "        curr_dist = get_dist(curr_pos,check_coords)\n",
    "        if curr_dist < min_dist:\n",
    "            min_dist = curr_dist\n",
    "            new_atom_index = i\n",
    "    return new_atom_index\n",
    "\n",
    "def single_rotation_objective(angles,md_universe,fixed_indexes_1,rotating_atom_indexes_1):\n",
    "    rotated_donor = rotate_atoms(md_universe.copy(), fixed_indexes_1[0],fixed_indexes_1[1],rotating_atom_indexes_1,angles[0])\n",
    "    check_atoms = rotating_atom_indexes_1 \n",
    "    num_clash = get_atom_clashes(rotated_donor,check_atoms,threshold=1.5)\n",
    "    return num_clash\n",
    "\n",
    "def align_and_update_positions(initial_coords,final_coords,md_universe):\n",
    "    R, t = kabsch_algorithm(initial_coords,final_coords)\n",
    "    # make a copy of the substrate object and update atom positions by aligning aka head atoms\n",
    "    universe_aligned = md_universe.copy()\n",
    "    for i in range(0,len(universe_aligned.atoms.positions)):\n",
    "        atom_coords = universe_aligned.atoms[i].position\n",
    "        new_coords = np.dot(R, atom_coords) + t\n",
    "        universe_aligned.atoms[i].position = new_coords\n",
    "\n",
    "    return universe_aligned\n",
    "\n",
    "#def optimize_double_rotation(initial_angles,md_universe,fixed_indexes_1,fixed_indexes_2,rotating_atom_indexes_1,rotating_atom_indexes_2):\n",
    "#    # Set up optimization\n",
    "#    tolerance = 1e-6\n",
    "#    result = minimize(\n",
    "#        double_rotation_objective,\n",
    "#        initial_angles,\n",
    "#        args=(md_universe,fixed_indexes_1,fixed_indexes_2,rotating_atom_indexes_1,rotating_atom_indexes_2),\n",
    "#        tol=tolerance,\n",
    "#        method='Nelder-Mead'\n",
    "#    )\n",
    "#    # Check for successful optimization\n",
    "#    if result.success:\n",
    "#        print('ROTATION CONVERGED')\n",
    "#    else:\n",
    "#        print('ROTATION NOT CONVERGED')\n",
    "#    #rotated_structure = rotate_atoms(md_universe.copy(), fixed_index_1,fixed_index_2,rotating_atom_indexes, result.x[0])\n",
    "#    #rotated_structure = rotate_atoms(md_universe.copy(), fixed_index_1,fixed_index_2,rotating_atom_indexes, 270)\n",
    "#\n",
    "#    return result.x"
   ]
  },
  {
   "cell_type": "code",
   "execution_count": 14,
   "metadata": {},
   "outputs": [
    {
     "name": "stdout",
     "output_type": "stream",
     "text": [
      "18.pdb\n",
      "ROTATION CONVERGED\n",
      "File 'final_complex.pdb' has been written in '5EJ5/int2_modified/18/'.\n",
      "File 'inp_final.pdb' has been written in '5EJ5/int2_modified/18/'.\n"
     ]
    }
   ],
   "source": [
    "# read in each of the substrate files\n",
    "directory = 'substrates_initial/'\n",
    "file_names = [f for f in os.listdir(directory)]\n",
    "file_names = ['18.pdb']\n",
    "\n",
    "for curr_file_name in file_names:\n",
    "    print(curr_file_name)\n",
    "    # load substrate universe\n",
    "    file_start = curr_file_name.split('.')[0]\n",
    "    substrate = mda.Universe(directory+curr_file_name)\n",
    "    # identify the atoms that comprise the aka substrates \n",
    "    substrate_important_indexes = get_substrate_aka_indexes(substrate.atoms)\n",
    "        \n",
    "    indices_to_remove = [substrate_important_indexes['O1'],\n",
    "                         substrate_important_indexes['C3'],\n",
    "                         substrate_important_indexes['O2'],\n",
    "                         substrate_important_indexes['O3']]\n",
    "    # S denotes unbound susbtrate we are trying to align \n",
    "    C2S_coords = get_atom_position(substrate,substrate_important_indexes['C2'])\n",
    "    RS_coords = get_atom_position(substrate,substrate_important_indexes['R'])\n",
    "    initial_S_positions = np.array([C2S_coords,RS_coords])\n",
    "    if file_start == '7':\n",
    "        R_dist = bond_dists['C-N']\n",
    "    else:\n",
    "        R_dist = bond_dists['C-C']\n",
    "\n",
    "    guess_R_coords = C2_coords + C2R_unit * R_dist \n",
    "    final_donor_positions = np.array([C2_coords,guess_R_coords])\n",
    "\n",
    "    donor_aligned = align_and_update_positions(initial_S_positions,final_donor_positions,substrate)\n",
    "    # Select atoms to keep (all atoms excluding the ones in indices_to_remove)\n",
    "    mask = ~np.isin(donor_aligned.atoms.indices, indices_to_remove)\n",
    "    atoms_to_keep = donor_aligned.atoms[mask]\n",
    "    modified_donor = Merge(atoms_to_keep)\n",
    "    #write_universe(output_dir+file_start+'/', 'donor.pdb', modified_donor)\n",
    "    C2_new_index = find_atom_in_new_universe(modified_donor,C2_coords)\n",
    "    R_new_index = find_atom_in_new_universe(modified_donor,R_coords)\n",
    "    donor_atoms_to_rotate = [i for i in range(0,len(modified_donor.atoms)) if i not in [C2_new_index,R_new_index]]\n",
    "    rotated_donor = optimize_rotation(np.array(0),modified_donor.copy(),C2_new_index, R_new_index, donor_atoms_to_rotate,donor_normal,donor_centroid)\n",
    "\n",
    "\n",
    "    inp = mda.Merge(inp_base.atoms,rotated_donor.atoms)\n",
    "    for atom in inp.atoms:\n",
    "        atom.residue.resid = 1\n",
    "        atom.residue.resname = \"INP\"\n",
    "        atom.record_type = \"HETATM\"\n",
    "\n",
    "    complex = mda.Merge(inp.atoms,protein_MG_water.atoms)\n",
    "\n",
    "    inp_donor_atoms_to_rotate = []\n",
    "    for i in donor_atoms_to_rotate:\n",
    "        new_index = find_atom_in_new_universe(complex,rotated_donor.atoms[i].position)\n",
    "        inp_donor_atoms_to_rotate.append(new_index)\n",
    "    C2_complex_index = find_atom_in_new_universe(complex,rotated_donor.atoms[C2_new_index].position) \n",
    "    R_complex_index = find_atom_in_new_universe(complex,rotated_donor.atoms[R_new_index].position) \n",
    "\n",
    "    \n",
    "    angles1 = np.linspace(0, 360, 36)\n",
    "    obj_vals = np.array([single_rotation_objective([a1],complex,[C2_complex_index,R_complex_index],inp_donor_atoms_to_rotate) for a1 in angles1])\n",
    "    min_indexes = np.unravel_index(np.argmin(obj_vals), obj_vals.shape)\n",
    "    rotated_complex = rotate_atoms(complex.copy(), C2_complex_index,R_complex_index,inp_donor_atoms_to_rotate,angles1[min_indexes[0]])\n",
    "    write_universe(output_dir+file_start+'/', 'final_complex.pdb', rotated_complex)\n",
    "    inp_final = rotated_complex.select_atoms(\"resname INP\")\n",
    "    write_universe(output_dir+file_start+'/', 'inp_final.pdb', inp_final)\n",
    "\n"
   ]
  },
  {
   "cell_type": "code",
   "execution_count": 15,
   "metadata": {},
   "outputs": [],
   "source": [
    "tmp = rotated_donor.atoms[0:2] + rotated_donor.atoms[4:]\n",
    "\n",
    "    "
   ]
  },
  {
   "cell_type": "code",
   "execution_count": 16,
   "metadata": {},
   "outputs": [
    {
     "data": {
      "text/plain": [
       "MDAnalysis.core.groups.AtomGroup"
      ]
     },
     "execution_count": 16,
     "metadata": {},
     "output_type": "execute_result"
    }
   ],
   "source": [
    "type(tmp)\n"
   ]
  },
  {
   "cell_type": "code",
   "execution_count": 17,
   "metadata": {},
   "outputs": [
    {
     "data": {
      "text/plain": [
       "array([11, 13,  9,  8,  7,  7, 10, 13,  9,  6,  4,  2,  4,  3,  2,  4,  4,\n",
       "        4,  3,  3,  3,  4,  5,  5,  5,  9, 15, 17, 14, 11, 12, 14, 16, 13,\n",
       "       10, 11])"
      ]
     },
     "execution_count": 17,
     "metadata": {},
     "output_type": "execute_result"
    }
   ],
   "source": [
    "obj_vals"
   ]
  },
  {
   "cell_type": "code",
   "execution_count": 18,
   "metadata": {},
   "outputs": [
    {
     "ename": "NameError",
     "evalue": "name 'angles2' is not defined",
     "output_type": "error",
     "traceback": [
      "\u001b[1;31m---------------------------------------------------------------------------\u001b[0m",
      "\u001b[1;31mNameError\u001b[0m                                 Traceback (most recent call last)",
      "Cell \u001b[1;32mIn[18], line 1\u001b[0m\n\u001b[1;32m----> 1\u001b[0m plt\u001b[38;5;241m.\u001b[39mcontourf(angles1, \u001b[43mangles2\u001b[49m, obj_vals, levels\u001b[38;5;241m=\u001b[39m\u001b[38;5;241m50\u001b[39m)\n\u001b[0;32m      2\u001b[0m plt\u001b[38;5;241m.\u001b[39mcolorbar()\n\u001b[0;32m      3\u001b[0m plt\u001b[38;5;241m.\u001b[39mxlabel(\u001b[38;5;124m\"\u001b[39m\u001b[38;5;124mAngle 1\u001b[39m\u001b[38;5;124m\"\u001b[39m)\n",
      "\u001b[1;31mNameError\u001b[0m: name 'angles2' is not defined"
     ]
    }
   ],
   "source": [
    "plt.contourf(angles1, angles2, obj_vals, levels=50)\n",
    "plt.colorbar()\n",
    "plt.xlabel(\"Angle 1\")\n",
    "plt.ylabel(\"Angle 2\")\n",
    "plt.title(\"Objective Function Landscape\")\n",
    "plt.show()\n",
    "\n",
    "    "
   ]
  },
  {
   "cell_type": "code",
   "execution_count": null,
   "metadata": {},
   "outputs": [
    {
     "data": {
      "text/plain": [
       "(4, 2)"
      ]
     },
     "execution_count": 35,
     "metadata": {},
     "output_type": "execute_result"
    }
   ],
   "source": [
    "min_index = np.unravel_index(np.argmin(obj_vals), obj_vals.shape)\n",
    "min_index"
   ]
  },
  {
   "cell_type": "code",
   "execution_count": null,
   "metadata": {},
   "outputs": [
    {
     "data": {
      "text/plain": [
       "8"
      ]
     },
     "execution_count": 36,
     "metadata": {},
     "output_type": "execute_result"
    }
   ],
   "source": [
    "obj_vals[2,6]"
   ]
  },
  {
   "cell_type": "code",
   "execution_count": null,
   "metadata": {},
   "outputs": [],
   "source": []
  }
 ],
 "metadata": {
  "kernelspec": {
   "display_name": "md-env",
   "language": "python",
   "name": "python3"
  },
  "language_info": {
   "codemirror_mode": {
    "name": "ipython",
    "version": 3
   },
   "file_extension": ".py",
   "mimetype": "text/x-python",
   "name": "python",
   "nbconvert_exporter": "python",
   "pygments_lexer": "ipython3",
   "version": "0.0.0"
  }
 },
 "nbformat": 4,
 "nbformat_minor": 2
}

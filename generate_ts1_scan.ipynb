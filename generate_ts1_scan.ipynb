{
 "cells": [
  {
   "cell_type": "code",
   "execution_count": 1,
   "metadata": {},
   "outputs": [
    {
     "name": "stderr",
     "output_type": "stream",
     "text": [
      "c:\\Users\\gbonn\\anaconda3\\envs\\md-env\\Lib\\site-packages\\tqdm\\auto.py:21: TqdmWarning: IProgress not found. Please update jupyter and ipywidgets. See https://ipywidgets.readthedocs.io/en/stable/user_install.html\n",
      "  from .autonotebook import tqdm as notebook_tqdm\n"
     ]
    }
   ],
   "source": [
    "import MDAnalysis as mda\n",
    "import numpy as np\n",
    "import os\n",
    "import shutil\n",
    "import csv\n",
    "from utils import *\n",
    "import warnings \n",
    "\n",
    "# Suppress warnings specific to MDAnalysis\n",
    "warnings.filterwarnings(\"ignore\", category=UserWarning, module=\"MDAnalysis\")"
   ]
  },
  {
   "cell_type": "code",
   "execution_count": null,
   "metadata": {},
   "outputs": [],
   "source": [
    "# load receptor universe and extract the different parts of the protein int1 receptor \n",
    "head_dir = '/projects/p30041/gbf4422/5EJ5/TEST_WORKFLOW/int1/'\n",
    "\n",
    "# dictionary of charged protein residues with key being the Amber resname and the value being the net charge of that residue\n",
    "residue_charge_dict = {'ARG':1,'LYS':1,'HIP':1,'ASP':-1,'GLU':-1,'MG':2}\n",
    "\n",
    "# specify active atoms\n",
    "by_dist = True \n",
    "QM_sphere_r = 2 # Angstroms (a value of 2 will give only the ThDP intermediate (auto adds MG))\n",
    "active_sphere_r = 8\n",
    "    \n",
    "# TODO calculate protein charge automatically (or read it in from leap.log file)\n",
    "base_charge = -4 # INI without accounting for R groups    \n",
    "intermediate = 'INI'\n",
    "\n",
    "all_substrates = ['3']\n",
    "for curr_substrate in all_substrates:\n",
    "    print('Current Substrate',curr_substrate)\n",
    "    curr_dir = head_dir + curr_substrate + '/'\n",
    "    output_dir = '/projects/p30041/gbf4422/sensitivity_testing/rotation_test/'\n",
    "\n",
    "    complex = mda.Universe(curr_dir+'MD/run_equil_fail/aligned_last_frame.pdb')\n",
    "\n",
    "    # get all atoms near the protein excluding NaCl\n",
    "    trimmed_complex_initial = complex.select_atoms(\"(protein or resname INI or resname MG) or ((around 2.5 protein) and resname WAT)\").residues\n",
    "    # Renumber residues manually\n",
    "    for i, residue in enumerate(trimmed_complex_initial):\n",
    "        residue.resid = i + 1  # Assign new resid starting from 1\n",
    "    \n",
    "    write_universe(output_dir  + 'prep/','initial.pdb',trimmed_complex_initial)\n",
    "    edit_protein_files(output_dir  + 'prep/','initial.pdb')\n",
    "\n",
    "    trimmed_complex = mda.Universe(output_dir  + 'prep/initial.pdb')\n",
    "    \n",
    "    if curr_substrate in ['4','6','11','16']:\n",
    "        additional_charge = -1\n",
    "    else:\n",
    "        additional_charge = 0\n",
    "   \n",
    "    residue_charge_dict[intermediate] = base_charge + additional_charge\n",
    "    MM_charge = 0\n",
    "    for residue in trimmed_complex.residues:\n",
    "        curr_resname = residue.resname\n",
    "        if curr_resname in residue_charge_dict:\n",
    "            MM_charge += residue_charge_dict[curr_resname]\n",
    "\n",
    "    # get the QM atoms and residues (automatically includes Mg2+)\n",
    "    # get INI atoms \n",
    "    ini = trimmed_complex.select_atoms(\"resname \" + intermediate)\n",
    "    # get the carbonyl carbon of the substrate\n",
    "    #atom_dict = get_substrate_aka_indexes(ini)\n",
    "    atom_dict = get_ini_indexes(ini)\n",
    "    C2_index = atom_dict['C2']\n",
    "    C2_id = ini.atoms[C2_index].index\n",
    "    C2_atom = trimmed_complex.select_atoms(\"index \" +  str(C2_id))\n",
    "    QM_residues, active_residues, QM_atoms_indexes,active_atoms_indexes,fixed_atoms_indexes = get_atoms_by_distance(trimmed_complex,QM_sphere_r,active_sphere_r,C2_id)\n",
    "\n",
    "    QM_residues_resids = [residue.resid for residue in QM_residues]\n",
    "    active_residues_resids = [residue.resid for residue in active_residues]\n",
    "    \n",
    "    # simplify lists to write to file\n",
    "    QM_list = simplify_integer_list(QM_atoms_indexes)\n",
    "    active_list = simplify_integer_list(active_atoms_indexes)\n",
    "    # calculate the charge of our system\n",
    "    total_QM_charge = 0\n",
    "    # get charge of QM region \n",
    "    for residue in QM_residues:\n",
    "        resname = residue.resname\n",
    "        if resname in residue_charge_dict:\n",
    "            total_QM_charge += residue_charge_dict[resname]\n",
    "\n",
    "    #write_MM_orca_script(active_list,MM_charge,output_dir+'MM_Opt_Active_10/')\n",
    "    shutil.copy(curr_dir + 'MD/prep/INI.mol2', output_dir  + 'prep/INI.mol2')\n",
    "    shutil.copy(curr_dir + 'MD/prep/INI.frcmod', output_dir  + 'prep/INI.frcmod')\n",
    "\n",
    "\n",
    "    write_QMMM_orca_script(QM_list,active_list,total_QM_charge,output_dir  + 'run/')\n",
    "    shutil.copy('scripts/template_orca_job_expanse.sh',output_dir  + 'run/' + 'orca_job_expanse.sh')\n",
    "    write_resids_to_csv(output_dir  + 'run/',f'QM_{QM_sphere_r}_and_{active_sphere_r}A_Active_residues.csv',QM_residues_resids,active_residues_resids)"
   ]
  }
 ],
 "metadata": {
  "kernelspec": {
   "display_name": "md-env",
   "language": "python",
   "name": "python3"
  },
  "language_info": {
   "codemirror_mode": {
    "name": "ipython",
    "version": 3
   },
   "file_extension": ".py",
   "mimetype": "text/x-python",
   "name": "python",
   "nbconvert_exporter": "python",
   "pygments_lexer": "ipython3",
   "version": "3.12.5"
  }
 },
 "nbformat": 4,
 "nbformat_minor": 2
}

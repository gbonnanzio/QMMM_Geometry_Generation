{
 "cells": [
  {
   "cell_type": "code",
   "execution_count": 1,
   "metadata": {},
   "outputs": [
    {
     "name": "stderr",
     "output_type": "stream",
     "text": [
      "c:\\Users\\gbonn\\anaconda3\\envs\\md-env\\Lib\\site-packages\\tqdm\\auto.py:21: TqdmWarning: IProgress not found. Please update jupyter and ipywidgets. See https://ipywidgets.readthedocs.io/en/stable/user_install.html\n",
      "  from .autonotebook import tqdm as notebook_tqdm\n"
     ]
    }
   ],
   "source": [
    "import MDAnalysis as mda\n",
    "import numpy as np\n",
    "import os\n",
    "from utils import *\n",
    "import warnings \n",
    "\n",
    "# Suppress warnings specific to MDAnalysis\n",
    "warnings.filterwarnings(\"ignore\", category=UserWarning, module=\"MDAnalysis\")"
   ]
  },
  {
   "cell_type": "code",
   "execution_count": 2,
   "metadata": {},
   "outputs": [],
   "source": [
    "residue_charge_dict = {'ARG':1,'LYS':1,'ASP':-1,'GLU':-1,'INI':-5}"
   ]
  },
  {
   "cell_type": "code",
   "execution_count": 3,
   "metadata": {},
   "outputs": [],
   "source": [
    "complex = mda.Universe('complexes/6/qm_complex.pdb')\n",
    "ini = complex.select_atoms(\"resname INI\")"
   ]
  },
  {
   "cell_type": "code",
   "execution_count": 4,
   "metadata": {},
   "outputs": [],
   "source": [
    "aka_atom_dict = get_substrate_aka_indexes(ini)\n",
    "C2_index = aka_atom_dict['C2']\n",
    "C2_id = ini.atoms[C2_index].index\n",
    "C2_atom = complex.select_atoms(\"index \" +  str(C2_id))"
   ]
  },
  {
   "cell_type": "code",
   "execution_count": 5,
   "metadata": {},
   "outputs": [],
   "source": [
    "dist = 6\n",
    "# get atoms a certain distance away from the carbonyl carbon  \n",
    "QM_shell= complex.select_atoms(\"around \" + str(dist) + \" index \" + str(C2_id))\n",
    "# get the residues those atoms belong to\n",
    "QM_residues = set([atom.residue for atom in QM_shell])\n",
    "# do the same for the MM atoms expanding our shell \n",
    "active_atoms = complex.select_atoms(\"around \" + str(dist) + \" index \" + str(C2_id))\n",
    "active_residues = set([atom.residue for atom in active_atoms])\n",
    "# do the same for the fixed atoms that are used in the optimizer\n",
    "fixed_shell = complex.select_atoms(\"around \" + str(dist+2) + \" index \" + str(C2_id))\n",
    "QMMM_plus_fixed_residues = set([atom.residue for atom in fixed_shell])\n",
    "\n",
    "# identify just the fixed atoms \n",
    "fixed_residues = QMMM_plus_fixed_residues.difference(active_residues)\n",
    "\n",
    "# get all the atoms that belong to the residues for each of these groups \n",
    "QM_atoms = complex.select_atoms(\" or \".join([f\"resid {residue.resid}\" for residue in QM_residues]))\n",
    "active_atoms = complex.select_atoms(\" or \".join([f\"resid {residue.resid}\" for residue in active_residues]))\n",
    "fixed_atoms = complex.select_atoms(\" or \".join([f\"resid {residue.resid}\" for residue in fixed_residues]))"
   ]
  },
  {
   "cell_type": "code",
   "execution_count": 6,
   "metadata": {},
   "outputs": [
    {
     "name": "stdout",
     "output_type": "stream",
     "text": [
      "-3\n"
     ]
    }
   ],
   "source": [
    "total_charge = 0\n",
    "# get charge of QM region \n",
    "for residue in list(QM_residues):\n",
    "    resname = residue.resname\n",
    "    if resname in residue_charge_dict:\n",
    "        total_charge += residue_charge_dict[resname]\n",
    "\n",
    "print(total_charge)"
   ]
  },
  {
   "cell_type": "code",
   "execution_count": 7,
   "metadata": {},
   "outputs": [],
   "source": [
    "def simplify_integer_list(int_list):\n",
    "    if not int_list:\n",
    "        return \"\"\n",
    "\n",
    "    # Sort the list to make sure the integers are in ascending order\n",
    "    sorted_list = sorted(int_list)\n",
    "    ranges = []\n",
    "    start = sorted_list[0]\n",
    "    end = start\n",
    "\n",
    "    for number in sorted_list[1:]:\n",
    "        if number == end + 1:\n",
    "            end = number\n",
    "        else:\n",
    "            if start == end:\n",
    "                ranges.append(f\"{start}\")\n",
    "            else:\n",
    "                ranges.append(f\"{start}:{end}\")\n",
    "            start = number\n",
    "            end = start\n",
    "\n",
    "    # Add the last range or number\n",
    "    if start == end:\n",
    "        ranges.append(f\"{start}\")\n",
    "    else:\n",
    "        ranges.append(f\"{start}:{end}\")\n",
    "\n",
    "    return ' '.join(ranges)"
   ]
  },
  {
   "cell_type": "code",
   "execution_count": 8,
   "metadata": {},
   "outputs": [],
   "source": [
    "QM_atom_indexes = [atom.index for atom in QM_atoms]\n",
    "active_atom_indexes = [atom.index for atom in active_atoms]\n",
    "fixed_atom_indexes = [atom.index for atom in fixed_atoms]"
   ]
  },
  {
   "cell_type": "code",
   "execution_count": 9,
   "metadata": {},
   "outputs": [],
   "source": [
    "QM_list = simplify_integer_list(QM_atom_indexes)\n",
    "active_list = simplify_integer_list(active_atom_indexes)\n",
    "fixed_list = simplify_integer_list(fixed_atom_indexes)"
   ]
  },
  {
   "cell_type": "code",
   "execution_count": 14,
   "metadata": {},
   "outputs": [
    {
     "name": "stdout",
     "output_type": "stream",
     "text": [
      "File processed and saved as complexes/6/opt.inp\n"
     ]
    }
   ],
   "source": [
    "# Define the input and output file paths\n",
    "input_file = \"template_QMMM_script.inp\"\n",
    "output_file = \"complexes/6/opt.inp\"\n",
    "\n",
    "# Open the input file and read its contents\n",
    "with open(input_file, 'r') as file:\n",
    "    content = file.read()\n",
    "\n",
    "# Replace the {} placeholders with the variable values\n",
    "content = content.replace(\"{}\", \"{\" + QM_list + \"}\" , 1)  # First occurrence\n",
    "content = content.replace(\"{}\", \"{\" + active_list + \"}\", 1)  # Second occurrence\n",
    "content = content.replace(\"{}\", \"{\" + fixed_list + \"}\", 1)  # Third occurrence\n",
    "\n",
    "# Add the custom line to the end\n",
    "custom_line = \"*pdbfile \" + str(total_charge) +\" 1 qm_complex.pdb\\n\"\n",
    "content += custom_line\n",
    "\n",
    "# Write the modified content to the output file\n",
    "with open(output_file, 'w') as file:\n",
    "    file.write(content)\n",
    "\n",
    "print(f\"File processed and saved as {output_file}\")\n"
   ]
  }
 ],
 "metadata": {
  "kernelspec": {
   "display_name": "md-env",
   "language": "python",
   "name": "python3"
  },
  "language_info": {
   "codemirror_mode": {
    "name": "ipython",
    "version": 3
   },
   "file_extension": ".py",
   "mimetype": "text/x-python",
   "name": "python",
   "nbconvert_exporter": "python",
   "pygments_lexer": "ipython3",
   "version": "3.12.5"
  }
 },
 "nbformat": 4,
 "nbformat_minor": 2
}

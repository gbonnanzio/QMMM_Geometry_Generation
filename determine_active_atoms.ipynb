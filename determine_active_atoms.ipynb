{
 "cells": [
  {
   "cell_type": "code",
   "execution_count": 12,
   "metadata": {},
   "outputs": [],
   "source": [
    "import MDAnalysis as mda\n",
    "import numpy as np\n",
    "import os\n",
    "from utils import *\n",
    "import warnings \n",
    "\n",
    "# Suppress warnings specific to MDAnalysis\n",
    "warnings.filterwarnings(\"ignore\", category=UserWarning, module=\"MDAnalysis\")"
   ]
  },
  {
   "cell_type": "code",
   "execution_count": 13,
   "metadata": {},
   "outputs": [],
   "source": [
    "# dictionary of charged protein residues with key being the Amber resname and the value being the net charge of that residue\n",
    "residue_charge_dict = {'ARG':1,'LYS':1,'ASP':-1,'GLU':-1,'INI':-5}"
   ]
  },
  {
   "cell_type": "code",
   "execution_count": 14,
   "metadata": {},
   "outputs": [],
   "source": [
    "# read in the system that you are about to model\n",
    "complex = mda.Universe('complexes/6/qm_complex.pdb')\n",
    "ini = complex.select_atoms(\"resname INI\")"
   ]
  },
  {
   "cell_type": "code",
   "execution_count": 15,
   "metadata": {},
   "outputs": [],
   "source": [
    "aka_atom_dict = get_substrate_aka_indexes(ini)\n",
    "C2_index = aka_atom_dict['C2']\n",
    "C2_id = ini.atoms[C2_index].index\n",
    "C2_atom = complex.select_atoms(\"index \" +  str(C2_id))"
   ]
  },
  {
   "cell_type": "code",
   "execution_count": 16,
   "metadata": {},
   "outputs": [],
   "source": [
    "def simplify_integer_list(int_list):\n",
    "    if not int_list:\n",
    "        return \"\"\n",
    "\n",
    "    # Sort the list to make sure the integers are in ascending order\n",
    "    sorted_list = sorted(int_list)\n",
    "    ranges = []\n",
    "    start = sorted_list[0]\n",
    "    end = start\n",
    "\n",
    "    for number in sorted_list[1:]:\n",
    "        if number == end + 1:\n",
    "            end = number\n",
    "        else:\n",
    "            if start == end:\n",
    "                ranges.append(f\"{start}\")\n",
    "            else:\n",
    "                ranges.append(f\"{start}:{end}\")\n",
    "            start = number\n",
    "            end = start\n",
    "\n",
    "    # Add the last range or number\n",
    "    if start == end:\n",
    "        ranges.append(f\"{start}\")\n",
    "    else:\n",
    "        ranges.append(f\"{start}:{end}\")\n",
    "\n",
    "    return ' '.join(ranges)"
   ]
  },
  {
   "cell_type": "code",
   "execution_count": 17,
   "metadata": {},
   "outputs": [],
   "source": [
    "def get_atoms_by_distance(mol_universe:mda.Universe,dist1:float,dist2:float,atom_id:int):\n",
    "    \n",
    "    # get atoms a certain distance away from the carbonyl carbon  \n",
    "    QM_shell= mol_universe.select_atoms(\"around \" + str(dist1) + \" index \" + str(atom_id))\n",
    "    # get the residues those atoms belong to\n",
    "    QM_residues = set([atom.residue for atom in QM_shell])\n",
    "    # do the same for the active atoms (which should include the QM atoms) \n",
    "    active_atoms = mol_universe.select_atoms(\"around \" + str(dist2) + \" index \" + str(atom_id))\n",
    "    active_residues = set([atom.residue for atom in active_atoms])\n",
    "    \n",
    "    # get all the atoms that belong to the residues for each of these groups \n",
    "    QM_atoms = mol_universe.select_atoms(\" or \".join([f\"resid {residue.resid}\" for residue in QM_residues]))\n",
    "    QM_atoms_indexes = [curr_atom.index for curr_atom in QM_atoms]\n",
    "    active_atoms = mol_universe.select_atoms(\" or \".join([f\"resid {residue.resid}\" for residue in active_residues]))\n",
    "    active_atoms_indexes = [curr_atom.index for curr_atom in active_atoms]\n",
    "    # find the fixed atoms \n",
    "    fixed_atoms = mol_universe.select_atoms(f\"around 2.5 index {' '.join(map(str, active_atoms_indexes))}\")\n",
    "    fixed_atoms_indexes = [curr_atom.index for curr_atom in fixed_atoms]\n",
    "    \n",
    "    return QM_residues, active_residues, QM_atoms_indexes,active_atoms_indexes,fixed_atoms_indexes\n",
    "\n"
   ]
  },
  {
   "cell_type": "code",
   "execution_count": 18,
   "metadata": {},
   "outputs": [],
   "source": [
    "QM_residues, active_residues, QM_atoms_indexes,active_atoms_indexes,fixed_atoms_indexes = get_atoms_by_distance(complex,6,6,C2_id)\n",
    "total_charge = 0\n",
    "# get charge of QM region \n",
    "for residue in QM_residues:\n",
    "    resname = residue.resname\n",
    "    if resname in residue_charge_dict:\n",
    "        total_charge += residue_charge_dict[resname]\n",
    "\n",
    "# simplify lists to write to file\n",
    "QM_list = simplify_integer_list(QM_atoms_indexes)\n",
    "active_list = simplify_integer_list(active_atoms_indexes)\n",
    "fixed_list = simplify_integer_list(fixed_atoms_indexes)"
   ]
  },
  {
   "cell_type": "code",
   "execution_count": 19,
   "metadata": {},
   "outputs": [
    {
     "name": "stdout",
     "output_type": "stream",
     "text": [
      "File processed and saved as complexes/6/opt_copy.inp\n"
     ]
    }
   ],
   "source": [
    "# Define the input and output file paths\n",
    "input_file = \"template_QMMM_script.inp\"\n",
    "output_file = \"complexes/6/opt_copy.inp\"\n",
    "\n",
    "# Open the input file and read its contents\n",
    "with open(input_file, 'r') as file:\n",
    "    content = file.read()\n",
    "\n",
    "# Replace the {} placeholders with the variable values\n",
    "content = content.replace(\"{}\", \"{\" + QM_list + \"}\" , 1)  # First occurrence\n",
    "content = content.replace(\"{}\", \"{\" + active_list + \"}\", 1)  # Second occurrence\n",
    "content = content.replace(\"{}\", \"{\" + fixed_list + \"}\", 1)  # Third occurrence\n",
    "\n",
    "# Add the custom line to the end\n",
    "custom_line = \"*pdbfile \" + str(total_charge) +\" 1 qm_complex.pdb\\n\"\n",
    "content += custom_line\n",
    "\n",
    "# Write the modified content to the output file\n",
    "with open(output_file, 'w') as file:\n",
    "    file.write(content)\n",
    "\n",
    "print(f\"File processed and saved as {output_file}\")\n"
   ]
  },
  {
   "cell_type": "code",
   "execution_count": 20,
   "metadata": {},
   "outputs": [],
   "source": [
    "def get_atoms_by_reslist(mol_universe:mda.Universe,residue_list:list):\n",
    "\n",
    "    # get all the atoms that belong to the residues for each of these groups \n",
    "    selected_atoms = mol_universe.select_atoms(\" or \".join([f\"resid {residue}\" for residue in residue_list]))\n",
    "    selected_atoms_indexes = [curr_atom.index for curr_atom in selected_atoms]\n",
    "\n",
    "    return selected_atoms_indexes\n",
    "    \n",
    "\n",
    "\n"
   ]
  },
  {
   "cell_type": "code",
   "execution_count": 31,
   "metadata": {},
   "outputs": [],
   "source": [
    "active_residues_resids = [residue.resid for residue in active_residues]"
   ]
  },
  {
   "cell_type": "code",
   "execution_count": 36,
   "metadata": {},
   "outputs": [],
   "source": [
    "# read in the system that you are about to model\n",
    "receptor = mda.Universe('receptor/qm_complex.pdb')\n",
    "active_atoms_in_receptor = get_atoms_by_reslist(receptor,active_residues_resids)\n",
    "\n",
    "QM_atoms_in_receptor = get_atoms_by_reslist(receptor,[1113,1114])\n",
    "# simplify lists to write to file\n",
    "receptor_QM_atoms_list = simplify_integer_list(QM_atoms_in_receptor)\n",
    "receptor_active_atoms_list = simplify_integer_list(active_atoms_in_receptor)"
   ]
  },
  {
   "cell_type": "code",
   "execution_count": 37,
   "metadata": {},
   "outputs": [
    {
     "name": "stdout",
     "output_type": "stream",
     "text": [
      "File processed and saved as receptor/opt.inp\n"
     ]
    }
   ],
   "source": [
    "# Define the input and output file paths\n",
    "input_file = \"template_QMMM_script.inp\"\n",
    "output_file = \"receptor/opt.inp\"\n",
    "\n",
    "# Open the input file and read its contents\n",
    "with open(input_file, 'r') as file:\n",
    "    content = file.read()\n",
    "\n",
    "# Replace the {} placeholders with the variable values\n",
    "content = content.replace(\"{}\", \"{\" + receptor_QM_atoms_list + \"}\" , 1)  # First occurrence\n",
    "content = content.replace(\"{}\", \"{\" + receptor_active_atoms_list + \"}\", 1)  # Second occurrence\n",
    "\n",
    "# Add the custom line to the end\n",
    "custom_line = \"*pdbfile -3 1 qm_complex.pdb\\n\"\n",
    "content += custom_line\n",
    "\n",
    "# Write the modified content to the output file\n",
    "with open(output_file, 'w') as file:\n",
    "    file.write(content)\n",
    "\n",
    "print(f\"File processed and saved as {output_file}\")\n"
   ]
  }
 ],
 "metadata": {
  "kernelspec": {
   "display_name": "md-env",
   "language": "python",
   "name": "python3"
  },
  "language_info": {
   "codemirror_mode": {
    "name": "ipython",
    "version": 3
   },
   "file_extension": ".py",
   "mimetype": "text/x-python",
   "name": "python",
   "nbconvert_exporter": "python",
   "pygments_lexer": "ipython3",
   "version": "3.12.5"
  }
 },
 "nbformat": 4,
 "nbformat_minor": 2
}

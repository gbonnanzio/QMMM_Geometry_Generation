{
 "cells": [
  {
   "cell_type": "code",
   "execution_count": 20,
   "metadata": {},
   "outputs": [],
   "source": [
    "import MDAnalysis as mda\n",
    "import numpy as np\n",
    "import os\n",
    "from scipy.optimize import minimize\n",
    "from utils import *"
   ]
  },
  {
   "cell_type": "code",
   "execution_count": 39,
   "metadata": {},
   "outputs": [
    {
     "name": "stdout",
     "output_type": "stream",
     "text": [
      "0\n",
      "1\n",
      "10\n",
      "11\n",
      "12\n",
      "13\n",
      "14\n",
      "15\n"
     ]
    },
    {
     "name": "stderr",
     "output_type": "stream",
     "text": [
      "c:\\Users\\gbonn\\anaconda3\\envs\\md-env\\Lib\\site-packages\\MDAnalysis\\coordinates\\PDB.py:777: UserWarning: Unit cell dimensions not found. CRYST1 record set to unitary values.\n",
      "  warnings.warn(\"Unit cell dimensions not found. \"\n",
      "c:\\Users\\gbonn\\anaconda3\\envs\\md-env\\Lib\\site-packages\\MDAnalysis\\coordinates\\PDB.py:1153: UserWarning: Found no information for attr: 'formalcharges' Using default value of '0'\n",
      "  warnings.warn(\"Found no information for attr: '{}'\"\n",
      "c:\\Users\\gbonn\\anaconda3\\envs\\md-env\\Lib\\site-packages\\MDAnalysis\\coordinates\\PDB.py:1200: UserWarning: Found missing chainIDs. Corresponding atoms will use value of 'X'\n",
      "  warnings.warn(\"Found missing chainIDs.\"\n"
     ]
    },
    {
     "name": "stdout",
     "output_type": "stream",
     "text": [
      "16\n",
      "17\n",
      "18\n",
      "19\n",
      "2\n",
      "3\n",
      "4\n",
      "5\n",
      "6\n",
      "7\n",
      "8\n",
      "9\n"
     ]
    }
   ],
   "source": [
    "# read in each of the substrate files\n",
    "directory = 'substrate_files/'\n",
    "file_names = [f for f in os.listdir(directory) if \"_head\" not in f]\n",
    "\n",
    "for curr_file_name in file_names:\n",
    "    file_start = curr_file_name.split('.')[0]\n",
    "    # load substrate universe\n",
    "    substrate = mda.Universe(directory+curr_file_name)\n",
    "    # identify the atoms that comprise the aka substrates \n",
    "    substrate_important_indexes = get_substrate_aka_indexes(substrate)\n",
    "    selected_atoms = substrate.atoms[list(substrate_important_indexes.values())]\n",
    "    selected_atoms.write(directory + file_start + \"_head.pdb\")\n"
   ]
  },
  {
   "cell_type": "code",
   "execution_count": 22,
   "metadata": {},
   "outputs": [
    {
     "name": "stdout",
     "output_type": "stream",
     "text": [
      "{'C2': 1, 'O1': 22, 'C3': 0, 'O2': 23, 'O3': 21, 'R': 2}\n",
      "{'C1': 1, 'N1': 2, 'S1': 0, 'N2': 20}\n"
     ]
    }
   ],
   "source": [
    "substrate_6 = mda.Universe(directory + '18.pdb')\n",
    "substrate_6_important_indexes = get_substrate_aka_indexes(substrate_6)\n",
    "print(substrate_6_important_indexes)\n",
    "\n",
    "receptor = mda.Universe('int1_receptor.pdb')\n",
    "ThDP_important_indexes = get_ThDP_indexes(receptor)\n",
    "print(ThDP_important_indexes)"
   ]
  },
  {
   "cell_type": "code",
   "execution_count": 24,
   "metadata": {},
   "outputs": [
    {
     "name": "stdout",
     "output_type": "stream",
     "text": [
      "[-34.66339  -36.011883  22.165665]\n"
     ]
    }
   ],
   "source": [
    "tpp_residue = receptor.select_atoms(\"resname TPP\")\n",
    "\n",
    "C1_coords = get_atom_position(tpp_residue,ThDP_important_indexes['C1'])\n",
    "N1_coords = get_atom_position(tpp_residue,ThDP_important_indexes['N1'])\n",
    "N2_coords = get_atom_position(tpp_residue,ThDP_important_indexes['N2'])\n",
    "S1_coords = get_atom_position(tpp_residue,ThDP_important_indexes['S1'])\n",
    "\n",
    "vector_S1_to_C1 = C1_coords - S1_coords\n",
    "vector_N1_to_C1 = C1_coords - N1_coords\n",
    "avg_vector = (vector_S1_to_C1 + vector_N1_to_C1)/2\n",
    "unit_vector = avg_vector / np.linalg.norm(avg_vector)\n",
    "guess_C2 = C1_coords + unit_vector * 1.54\n",
    "\n",
    "\n",
    "print(guess_C2)"
   ]
  },
  {
   "cell_type": "code",
   "execution_count": 25,
   "metadata": {},
   "outputs": [
    {
     "name": "stdout",
     "output_type": "stream",
     "text": [
      "[[-34.894 -35.257  23.488]\n",
      " [-33.783 -34.924  24.16 ]\n",
      " [-33.487 -33.076  21.57 ]\n",
      " [-36.272 -34.716  24.347]]\n",
      "NOT CONVERGED\n",
      "Optimized points: [-34.95322067 -36.05735187  22.17123387] [-34.57322144 -37.59150683  22.56317159] [-34.04892146 -35.57772853  21.2669495 ]\n",
      "CONVERGED\n",
      "Reoptimized points: [-34.94014025 -36.07518795  22.18527961] [-34.57235262 -37.60205263  22.58615327] [-34.04679877 -35.58955324  21.27459049]\n"
     ]
    }
   ],
   "source": [
    "# Example input\n",
    "# ThDP C1, N1, N2, S1 atom coords\n",
    "centers = np.array([C1_coords,N1_coords,N2_coords,S1_coords])\n",
    "print(centers)\n",
    "# radii are in order of (columns) C1, N1, N2, S1 and then rows (C2, C3, O1) \n",
    "radii = [\n",
    "    [1.539,2.562,3.389,2.880],\n",
    "    [2.533,3.205,4.764,3.784],\n",
    "    [2.393,2.973,2.592,3.893]\n",
    "]\n",
    "#initial_guess = np.hstack([np.mean(centers, axis=0) for i in range(3)])\n",
    "initial_guess = np.hstack([guess_C2 for i in range(3)])\n",
    "#print(init)\n",
    "C2_optimized, C3_optimized, O1_optimized = optimize_points(centers, initial_guess, radii)\n",
    "all_optimized = [C2_optimized, C3_optimized, O1_optimized]\n",
    "print(\"Optimized points:\", C2_optimized, C3_optimized, O1_optimized)\n",
    "\n",
    "C2_err = atom_objective(C2_optimized, centers, radii[0])\n",
    "C3_err = atom_objective(C3_optimized, centers, radii[1])\n",
    "O1_err = atom_objective(O1_optimized, centers, radii[2])\n",
    "\n",
    "all_errors = [C2_err,C3_err,O1_err]\n",
    "min_error_index = all_errors.index(min(all_errors))\n",
    "redo_initial_guess = np.hstack([all_optimized[min_error_index] for i in range(3)])\n",
    "\n",
    "C2_reoptimized, C3_reoptimized, O1_reoptimized = optimize_points(centers, redo_initial_guess, radii)\n",
    "print(\"Reoptimized points:\", C2_reoptimized, C3_reoptimized, O1_reoptimized)\n"
   ]
  },
  {
   "cell_type": "code",
   "execution_count": 26,
   "metadata": {},
   "outputs": [],
   "source": [
    "initial_positions = [get_atom_position(substrate_6,substrate_6_important_indexes['C2']),get_atom_position(substrate_6,substrate_6_important_indexes['C3']),get_atom_position(substrate_6,substrate_6_important_indexes['O1'])]\n",
    "final_positions = [C2_reoptimized, C3_reoptimized, O1_reoptimized]"
   ]
  },
  {
   "cell_type": "code",
   "execution_count": 27,
   "metadata": {},
   "outputs": [],
   "source": [
    "R, t = kabsch_algorithm(initial_positions,final_positions)"
   ]
  },
  {
   "cell_type": "code",
   "execution_count": 29,
   "metadata": {},
   "outputs": [
    {
     "name": "stderr",
     "output_type": "stream",
     "text": [
      "c:\\Users\\gbonn\\anaconda3\\envs\\md-env\\Lib\\site-packages\\MDAnalysis\\coordinates\\PDB.py:777: UserWarning: Unit cell dimensions not found. CRYST1 record set to unitary values.\n",
      "  warnings.warn(\"Unit cell dimensions not found. \"\n",
      "c:\\Users\\gbonn\\anaconda3\\envs\\md-env\\Lib\\site-packages\\MDAnalysis\\coordinates\\PDB.py:1153: UserWarning: Found no information for attr: 'formalcharges' Using default value of '0'\n",
      "  warnings.warn(\"Found no information for attr: '{}'\"\n",
      "c:\\Users\\gbonn\\anaconda3\\envs\\md-env\\Lib\\site-packages\\MDAnalysis\\coordinates\\PDB.py:1200: UserWarning: Found missing chainIDs. Corresponding atoms will use value of 'X'\n",
      "  warnings.warn(\"Found missing chainIDs.\"\n"
     ]
    }
   ],
   "source": [
    "transformed_coords = []\n",
    "for atom_coords in substrate_6.atoms.positions:\n",
    "    new_coords = np.dot(R, atom_coords) + t\n",
    "    transformed_coords.append(new_coords)\n",
    "\n",
    "substrate_6.atoms.positions = transformed_coords\n",
    "\n",
    "# Save the updated universe to a new PDB file\n",
    "output_filename = \"aligned_substrate_6.pdb\"\n",
    "substrate_6.atoms.write(output_filename)"
   ]
  },
  {
   "cell_type": "code",
   "execution_count": 30,
   "metadata": {},
   "outputs": [],
   "source": [
    "C2_coords = substrate_6.atoms.positions[substrate_6_important_indexes['C2']]\n",
    "O1_coords = substrate_6.atoms.positions[substrate_6_important_indexes['O1']]\n",
    "C3_coords = substrate_6.atoms.positions[substrate_6_important_indexes['C3']]\n",
    "R_coords = substrate_6.atoms.positions[substrate_6_important_indexes['R']]"
   ]
  },
  {
   "cell_type": "code",
   "execution_count": 33,
   "metadata": {},
   "outputs": [],
   "source": [
    "def angle_objective(atom1,atom2,atom3,angle):\n",
    "    angle_err = abs(get_angle(atom1,atom2,atom3) - angle)\n",
    "    return angle_err\n",
    "\n",
    "def combined_angle_objective(tail_coord, C1_coord, C2_coord, O1_coord, C3_coord, angles):\n",
    "    # Calculate atom-level errors for each point to fit them to sphere constraints\n",
    "    angle_err_C1_C2_R = angle_objective(C1_coord, C2_coord, tail_coord, angles[0])\n",
    "    angle_err_O1_C2_R = angle_objective(O1_coord, C2_coord, tail_coord, angles[1])\n",
    "    angle_err_C3_C2_R = angle_objective(C3_coord, C2_coord, tail_coord, angles[2])\n",
    "    \n",
    "    #dist_err = get_dist()\n",
    "\n",
    "    total_angle_err = angle_err_C1_C2_R + angle_err_O1_C2_R + angle_err_C3_C2_R\n",
    "    # Combine errors with weighting factors\n",
    "    return  total_angle_err \n",
    "\n",
    "def optimize_angles(angles,initial_guess):\n",
    "    # Flatten initial guess as midpoint of each set of centers\n",
    "    # Set up optimization\n",
    "    tolerance = 1e-6\n",
    "    max_dist = 1.382\n",
    "    bounds = [(C2_coords[0]-max_dist,C2_coords[0]+max_dist),(C2_coords[1]-max_dist,C2_coords[1]+max_dist),(C2_coords[2]-max_dist,C2_coords[2]+max_dist)]\n",
    "    result = minimize(\n",
    "        combined_angle_objective,\n",
    "        initial_guess,\n",
    "        args=(C1_coords,C2_coords,O1_coords,C3_coords,angles),\n",
    "        tol=tolerance,\n",
    "        bounds=bounds\n",
    "    )\n",
    "    \n",
    "    # Check for successful optimization\n",
    "    if result.success or result.fun < tolerance:\n",
    "        print('CONVERGED')\n",
    "    else:\n",
    "        print('NOT CONVERGED')\n",
    "    \n",
    "    return result.x"
   ]
  },
  {
   "cell_type": "code",
   "execution_count": 34,
   "metadata": {},
   "outputs": [
    {
     "name": "stdout",
     "output_type": "stream",
     "text": [
      "CONVERGED\n"
     ]
    }
   ],
   "source": [
    "R_coord_guess = optimize_angles([111.1,110.2,107.5],R_coords)"
   ]
  },
  {
   "cell_type": "code",
   "execution_count": 35,
   "metadata": {},
   "outputs": [],
   "source": [
    "t_R = R_coord_guess-R_coords"
   ]
  },
  {
   "cell_type": "code",
   "execution_count": 36,
   "metadata": {},
   "outputs": [
    {
     "name": "stdout",
     "output_type": "stream",
     "text": [
      "[-0.17071736 -0.56791682 -1.3869865 ]\n"
     ]
    }
   ],
   "source": [
    "print(t_R)"
   ]
  },
  {
   "cell_type": "code",
   "execution_count": 37,
   "metadata": {},
   "outputs": [],
   "source": [
    "substrate_tail_atom_indexes = [i for i in range(0,len(substrate_6.atoms)) if i not in substrate_6_important_indexes.values()]\n",
    "substrate_tail_atom_indexes.append(substrate_6_important_indexes['R'])"
   ]
  },
  {
   "cell_type": "code",
   "execution_count": 38,
   "metadata": {},
   "outputs": [
    {
     "name": "stdout",
     "output_type": "stream",
     "text": [
      "old [-36.06236  -35.52854   22.804255]\n",
      "new [-36.23307622 -36.09645839  21.41726803]\n",
      "old [-36.5594   -34.130375  22.528807]\n",
      "new [-36.73011601 -34.69829173  21.14182018]\n",
      "old [-36.89178  -36.205147  22.560549]\n",
      "new [-37.06249821 -36.77306361  21.17356228]\n",
      "old [-35.870106 -35.584145  23.883942]\n",
      "new [-36.0408231  -36.15206141  22.49695515]\n",
      "old [-37.73401  -33.77402   23.192766]\n",
      "new [-37.90472615 -34.34193797  21.80577969]\n",
      "old [-38.265762 -32.508057  23.01687 ]\n",
      "new [-38.43647969 -33.07597346  21.62988399]\n",
      "old [-38.235294 -34.481106  23.848276]\n",
      "new [-38.4060117  -35.04902263  22.46128963]\n",
      "old [-37.61908  -31.605404  22.178709]\n",
      "new [-37.78979695 -32.17332072  20.79172253]\n",
      "old [-39.181057 -32.236816  23.53575 ]\n",
      "new [-39.35177434 -32.80473323  22.14876293]\n",
      "old [-36.431057 -32.02351   21.537607]\n",
      "new [-36.60177434 -32.5914268   20.15062069]\n",
      "old [-38.142586 -30.317198  21.982288]\n",
      "new [-38.31330311 -30.88511462  20.59530186]\n",
      "old [-35.912144 -33.26541   21.71571 ]\n",
      "new [-36.08286107 -33.8333282   20.32872318]\n",
      "old [-35.80654  -31.095762  20.70633 ]\n",
      "new [-35.9772588  -31.66367907  19.31934284]\n",
      "old [-36.323765 -29.806417  20.50509 ]\n",
      "new [-36.49448216 -30.37433429  19.11810421]\n",
      "old [-34.88897  -31.383389  20.198185]\n",
      "new [-35.05968678 -31.95130534  18.81119846]\n",
      "old [-37.494957 -29.417337  21.144695]\n",
      "new [-37.66567433 -29.98525424  19.75770878]\n",
      "old [-39.058987 -30.011349  22.482975]\n",
      "new [-39.22970402 -30.57926555  21.0959885 ]\n",
      "old [-35.808628 -29.109922  19.848545]\n",
      "new [-35.97934544 -29.67783923  18.46155857]\n",
      "old [-37.903046 -28.421404  20.995031]\n",
      "new [-38.07376301 -28.98932071  19.60804485]\n"
     ]
    }
   ],
   "source": [
    "\n",
    "for i in range(0,len(substrate_6.atoms)):\n",
    "    if i in substrate_tail_atom_indexes:\n",
    "        atom_coords= substrate_6.atoms.positions[i]\n",
    "        print('old',atom_coords)\n",
    "        new_coords = atom_coords + t_R\n",
    "        print('new',new_coords)\n",
    "\n",
    "        substrate_6.atoms[i].position = new_coords\n",
    "\n",
    "# Save the updated universe to a new PDB file\n",
    "output_filename = \"tail_aligned_substrate_\" + file_start + \".pdb\"\n",
    "substrate_6.atoms.write(output_filename)"
   ]
  },
  {
   "cell_type": "code",
   "execution_count": null,
   "metadata": {},
   "outputs": [],
   "source": []
  }
 ],
 "metadata": {
  "kernelspec": {
   "display_name": "md-env",
   "language": "python",
   "name": "python3"
  },
  "language_info": {
   "codemirror_mode": {
    "name": "ipython",
    "version": 3
   },
   "file_extension": ".py",
   "mimetype": "text/x-python",
   "name": "python",
   "nbconvert_exporter": "python",
   "pygments_lexer": "ipython3",
   "version": "3.12.5"
  }
 },
 "nbformat": 4,
 "nbformat_minor": 2
}

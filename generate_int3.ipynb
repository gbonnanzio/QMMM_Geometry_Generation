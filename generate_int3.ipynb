{
 "cells": [
  {
   "cell_type": "markdown",
   "metadata": {},
   "source": [
    "This code is based on the optimized structure of a homo-coupled 6-6 (akg) reaction in MenD (5EJ5) The idea is to keep the ThDP-bound product structure and use this code to only replace the R groups. "
   ]
  },
  {
   "cell_type": "code",
   "execution_count": 2,
   "metadata": {},
   "outputs": [
    {
     "name": "stderr",
     "output_type": "stream",
     "text": [
      "c:\\Users\\gbonn\\anaconda3\\envs\\md-env\\Lib\\site-packages\\tqdm\\auto.py:21: TqdmWarning: IProgress not found. Please update jupyter and ipywidgets. See https://ipywidgets.readthedocs.io/en/stable/user_install.html\n",
      "  from .autonotebook import tqdm as notebook_tqdm\n"
     ]
    }
   ],
   "source": [
    "import MDAnalysis as mda\n",
    "from MDAnalysis.core.universe import Merge\n",
    "import numpy as np\n",
    "import os\n",
    "from utils import *\n",
    "import warnings \n",
    "import matplotlib.pyplot as plt\n",
    "\n",
    "# Suppress warnings specific to MDAnalysis\n",
    "warnings.filterwarnings(\"ignore\", category=UserWarning, module=\"MDAnalysis\")"
   ]
  },
  {
   "cell_type": "code",
   "execution_count": 3,
   "metadata": {},
   "outputs": [],
   "source": [
    "# calculate vectors for the direction of each R group\n",
    "# P denotes prime, the atom of the acceptor molecule \n",
    "C2_coords = np.array([-35.281,-36.298,21.222])\n",
    "C2P_coords = np.array([-35.221,-37.893,21.065])\n",
    "R_coords = np.array([-36.642,-35.850,20.640])\n",
    "RP_coords = np.array([-36.528,-38.655,21.359])\n",
    "\n",
    "C2_R_vec = R_coords - C2_coords\n",
    "C2P_RP_vec = RP_coords - C2P_coords\n",
    "C2R_unit = C2_R_vec / np.linalg.norm(C2_R_vec)\n",
    "C2RP_unit = C2P_RP_vec / np.linalg.norm(C2P_RP_vec)"
   ]
  },
  {
   "cell_type": "code",
   "execution_count": 4,
   "metadata": {},
   "outputs": [],
   "source": [
    "# define the coordinates of the heavy atom R groups for the donor and acceptor from the optimized geometry\n",
    "# We will find the average plane through these points and try to match the normal of that plane when we replace \n",
    "# the new R groups for donor and acceptor\n",
    "\n",
    "donor_heavy_atom_R_coords = np.array([[-35.281, -36.298, 21.222],\n",
    "                                      [-36.642, -35.850, 20.640],\n",
    "                                      [-36.649, -34.402, 20.172],\n",
    "                                      [-38.045, -34.224, 19.630],\n",
    "                                      [-38.831, -33.511, 20.301],\n",
    "                                      [-38.401, -34.829, 18.588]])\n",
    "\n",
    "acc_heavy_atom_R_coords =   np.array([[-35.221, -37.893, 21.065],\n",
    "                                      [-36.528, -38.655, 21.359],\n",
    "                                      [-36.652, -40.020, 20.681],\n",
    "                                      [-38.123, -40.440, 20.288],\n",
    "                                      [-39.005, -39.560, 20.254],\n",
    "                                      [-38.263, -41.647, 20.032]])\n",
    "\n",
    "# Calculate the average plane of our template R groups \n",
    "donor_normal, donor_centroid = calculate_average_plane(donor_heavy_atom_R_coords)\n",
    "acc_normal, acc_centroid = calculate_average_plane(acc_heavy_atom_R_coords)"
   ]
  },
  {
   "cell_type": "code",
   "execution_count": 5,
   "metadata": {},
   "outputs": [],
   "source": [
    "# Calculate the average plane of our template R groups \n",
    "donor_normal, donor_centroid = calculate_average_plane(donor_heavy_atom_R_coords)\n",
    "acc_normal, acc_centroid = calculate_average_plane(acc_heavy_atom_R_coords)\n"
   ]
  },
  {
   "cell_type": "code",
   "execution_count": 6,
   "metadata": {},
   "outputs": [
    {
     "name": "stdout",
     "output_type": "stream",
     "text": [
      "File 'protein.pdb' has been written in '/Users/gbonn/OneDrive - Northwestern University/Bonnanzio Geoffrey/04 Raw Data/Generate_QMMM_Geometries/5EJ5/int3/receptor/'.\n",
      "Edited  /Users/gbonn/OneDrive - Northwestern University/Bonnanzio Geoffrey/04 Raw Data/Generate_QMMM_Geometries/5EJ5/int3/receptor/protein.pdb  for Amber\n",
      "File 'water.pdb' has been written in '/Users/gbonn/OneDrive - Northwestern University/Bonnanzio Geoffrey/04 Raw Data/Generate_QMMM_Geometries/5EJ5/int3/receptor/'.\n",
      "File 'receptor.pdb' has been written in '/Users/gbonn/OneDrive - Northwestern University/Bonnanzio Geoffrey/04 Raw Data/Generate_QMMM_Geometries/5EJ5/int3/receptor/'.\n",
      "Edited  /Users/gbonn/OneDrive - Northwestern University/Bonnanzio Geoffrey/04 Raw Data/Generate_QMMM_Geometries/5EJ5/int3/receptor/receptor.pdb  for Amber\n"
     ]
    }
   ],
   "source": [
    "# load receptor universe and extract the different parts of the protein int1 receptor \n",
    "head_dir = '5EJ5/int3/'\n",
    "receptor = mda.Universe(head_dir+'template_modified.pdb')\n",
    "\n",
    "output_dir = '/Users/gbonn/OneDrive - Northwestern University/Bonnanzio Geoffrey/04 Raw Data/Generate_QMMM_Geometries/5EJ5/int3/'\n",
    "\n",
    "# output the ThDP cofactor\n",
    "inp_base = receptor.select_atoms(\"resname INP\")\n",
    "#write_universe(output_dir +'receptor/','INP.pdb',ThDP)\n",
    "\n",
    "# output just the protein and edit the file so it is Amber readable \n",
    "protein = receptor.select_atoms(f\"protein or resname MG\")\n",
    "write_universe(output_dir  + 'receptor/','protein.pdb',protein)\n",
    "edit_protein_files(output_dir + 'receptor/','protein.pdb')\n",
    "\n",
    "# output the water\n",
    "try:\n",
    "    water = receptor.select_atoms(f\"resname WAT\")\n",
    "    write_universe(output_dir + 'receptor/','water.pdb',water)\n",
    "except:\n",
    "    print('No water to write')\n",
    "\n",
    "# output the receptor (everything besides ThDP)\n",
    "protein_MG_water = receptor.select_atoms(\"not resname INP\")\n",
    "write_universe(output_dir  + 'receptor/','receptor.pdb',protein_MG_water)\n",
    "edit_protein_files(output_dir  + 'receptor/','receptor.pdb')"
   ]
  },
  {
   "cell_type": "code",
   "execution_count": 20,
   "metadata": {},
   "outputs": [],
   "source": [
    "def diff_btwn_planes(normal_1,normal_2):\n",
    "    # Normalize the normals\n",
    "    n1 = normal_1 / np.linalg.norm(normal_1)\n",
    "    n2 = normal_2 / np.linalg.norm(normal_2)\n",
    "    \n",
    "    # Calculate angle between normals\n",
    "    dot_product = np.dot(n1, n2)\n",
    "    angle = np.arccos(np.clip(dot_product, -1.0, 1.0))\n",
    "    \n",
    "    return angle\n",
    "\n",
    "def rotation_objective(angle,md_universe,fixed_index_1,fixed_index_2,rotating_atom_indexes,reference_plane_normal,reference_plane_centroid):\n",
    "    rotated_donor = rotate_atoms(md_universe, fixed_index_1,fixed_index_2,rotating_atom_indexes,angle)\n",
    "    atom_positions = []\n",
    "    for i in range(0,len(rotated_donor.atoms)):\n",
    "        if rotated_donor.atoms[i].type != 'H':\n",
    "            atom_positions.append(rotated_donor.atoms[i].position)\n",
    "    plane_normal, plane_centroid = calculate_average_plane(np.array(atom_positions))\n",
    "    angle_between_planes = diff_btwn_planes(plane_normal,reference_plane_normal)\n",
    "    dist_between_centroid = get_dist(plane_centroid,reference_plane_centroid)\n",
    "    return angle_between_planes+dist_between_centroid\n",
    "\n",
    "def optimize_rotation(initial_angle,md_universe:mda.core.universe.Universe,fixed_index_1:int,fixed_index_2:int,rotating_atom_indexes:list,reference_plane_normal:np.ndarray,reference_plane_centroid:np.ndarray):\n",
    "    # Set up optimization\n",
    "    tolerance = 1e-12\n",
    "    result = minimize(\n",
    "        rotation_objective,\n",
    "        initial_angle,\n",
    "        args=(md_universe.copy(),fixed_index_1,fixed_index_2,rotating_atom_indexes,reference_plane_normal,reference_plane_centroid),\n",
    "        tol=tolerance,\n",
    "        method='Nelder-Mead'\n",
    "    )\n",
    "    # Check for successful optimization\n",
    "    if result.success:\n",
    "        print('ROTATION CONVERGED')\n",
    "    else:\n",
    "        print('ROTATION NOT CONVERGED')\n",
    "    rotated_structure = rotate_atoms(md_universe.copy(), fixed_index_1,fixed_index_2,rotating_atom_indexes, result.x[0])\n",
    "    #rotated_structure = rotate_atoms(md_universe.copy(), fixed_index_1,fixed_index_2,rotating_atom_indexes, 270)\n",
    "\n",
    "    return rotated_structure\n",
    "\n",
    "def find_atom_in_new_universe(md_universe,check_coords):\n",
    "    min_dist = 10**6 \n",
    "    for i in range(0,len(md_universe.atoms)):\n",
    "        curr_pos = md_universe.atoms[i].position\n",
    "        curr_dist = get_dist(curr_pos,check_coords)\n",
    "        if curr_dist < min_dist:\n",
    "            min_dist = curr_dist\n",
    "            new_atom_index = i\n",
    "    return new_atom_index\n",
    "\n",
    "def double_rotation_objective(angles,md_universe,fixed_indexes_1,fixed_indexes_2,rotating_atom_indexes_1,rotating_atom_indexes_2):\n",
    "    rotated_donor = rotate_atoms(md_universe.copy(), fixed_indexes_1[0],fixed_indexes_1[1],rotating_atom_indexes_1,angles[0])\n",
    "    rotated_acc = rotate_atoms(rotated_donor.copy(), fixed_indexes_2[0],fixed_indexes_2[1],rotating_atom_indexes_2,angles[1])\n",
    "    check_atoms = rotating_atom_indexes_1 + rotating_atom_indexes_2\n",
    "    num_clash = get_atom_clashes(rotated_acc,check_atoms,threshold=1.5)\n",
    "    return num_clash\n",
    "\n",
    "def align_and_update_positions(initial_coords,final_coords,md_universe):\n",
    "    R, t = kabsch_algorithm(initial_coords,final_coords)\n",
    "    # make a copy of the substrate object and update atom positions by aligning aka head atoms\n",
    "    universe_aligned = md_universe.copy()\n",
    "    for i in range(0,len(universe_aligned.atoms.positions)):\n",
    "        atom_coords = universe_aligned.atoms[i].position\n",
    "        new_coords = np.dot(R, atom_coords) + t\n",
    "        universe_aligned.atoms[i].position = new_coords\n",
    "\n",
    "    return universe_aligned\n",
    "\n",
    "def optimize_double_rotation(initial_angles,md_universe,fixed_indexes_1,fixed_indexes_2,rotating_atom_indexes_1,rotating_atom_indexes_2):\n",
    "    # Set up optimization\n",
    "    tolerance = 1e-6\n",
    "    result = minimize(\n",
    "        double_rotation_objective,\n",
    "        initial_angles,\n",
    "        args=(md_universe,fixed_indexes_1,fixed_indexes_2,rotating_atom_indexes_1,rotating_atom_indexes_2),\n",
    "        tol=tolerance,\n",
    "        method='Nelder-Mead'\n",
    "    )\n",
    "    # Check for successful optimization\n",
    "    if result.success:\n",
    "        print('ROTATION CONVERGED')\n",
    "    else:\n",
    "        print('ROTATION NOT CONVERGED')\n",
    "    #rotated_structure = rotate_atoms(md_universe.copy(), fixed_index_1,fixed_index_2,rotating_atom_indexes, result.x[0])\n",
    "    #rotated_structure = rotate_atoms(md_universe.copy(), fixed_index_1,fixed_index_2,rotating_atom_indexes, 270)\n",
    "\n",
    "    return result.x"
   ]
  },
  {
   "cell_type": "code",
   "execution_count": 18,
   "metadata": {},
   "outputs": [
    {
     "name": "stdout",
     "output_type": "stream",
     "text": [
      "6.pdb\n",
      "ROTATION CONVERGED\n",
      "ROTATION CONVERGED\n",
      "File 'inp.pdb' has been written in '/Users/gbonn/OneDrive - Northwestern University/Bonnanzio Geoffrey/04 Raw Data/Generate_QMMM_Geometries/5EJ5/int3/6/'.\n",
      "File 'initial_complex.pdb' has been written in '/Users/gbonn/OneDrive - Northwestern University/Bonnanzio Geoffrey/04 Raw Data/Generate_QMMM_Geometries/5EJ5/int3/6/'.\n"
     ]
    },
    {
     "ename": "IndexError",
     "evalue": "index 2 is out of bounds for axis 0 with size 2",
     "output_type": "error",
     "traceback": [
      "\u001b[1;31m---------------------------------------------------------------------------\u001b[0m",
      "\u001b[1;31mIndexError\u001b[0m                                Traceback (most recent call last)",
      "Cell \u001b[1;32mIn[18], line 91\u001b[0m\n\u001b[0;32m     89\u001b[0m inp_donor_atoms_to_rotate \u001b[38;5;241m=\u001b[39m []\n\u001b[0;32m     90\u001b[0m \u001b[38;5;28;01mfor\u001b[39;00m i \u001b[38;5;129;01min\u001b[39;00m donor_atoms_to_rotate:\n\u001b[1;32m---> 91\u001b[0m     new_index \u001b[38;5;241m=\u001b[39m find_atom_in_new_universe(\u001b[38;5;28mcomplex\u001b[39m,\u001b[43mrotated_donor\u001b[49m\u001b[38;5;241;43m.\u001b[39;49m\u001b[43matoms\u001b[49m\u001b[43m[\u001b[49m\u001b[43mi\u001b[49m\u001b[43m]\u001b[49m\u001b[38;5;241m.\u001b[39mposition)\n\u001b[0;32m     92\u001b[0m     inp_donor_atoms_to_rotate\u001b[38;5;241m.\u001b[39mappend(new_index)\n\u001b[0;32m     93\u001b[0m C2_complex_index \u001b[38;5;241m=\u001b[39m find_atom_in_new_universe(\u001b[38;5;28mcomplex\u001b[39m,rotated_donor\u001b[38;5;241m.\u001b[39matoms[C2_new_index]\u001b[38;5;241m.\u001b[39mposition) \n",
      "File \u001b[1;32mc:\\Users\\gbonn\\anaconda3\\envs\\md-env\\Lib\\site-packages\\MDAnalysis\\core\\groups.py:592\u001b[0m, in \u001b[0;36mGroupBase.__getitem__\u001b[1;34m(self, item)\u001b[0m\n\u001b[0;32m    590\u001b[0m     \u001b[38;5;28;01mraise\u001b[39;00m \u001b[38;5;167;01mTypeError\u001b[39;00m(\u001b[38;5;124m'\u001b[39m\u001b[38;5;124mNone cannot be used to index a group.\u001b[39m\u001b[38;5;124m'\u001b[39m)\n\u001b[0;32m    591\u001b[0m \u001b[38;5;28;01melif\u001b[39;00m \u001b[38;5;28misinstance\u001b[39m(item, numbers\u001b[38;5;241m.\u001b[39mIntegral):\n\u001b[1;32m--> 592\u001b[0m     \u001b[38;5;28;01mreturn\u001b[39;00m \u001b[38;5;28mself\u001b[39m\u001b[38;5;241m.\u001b[39mlevel\u001b[38;5;241m.\u001b[39msingular(\u001b[38;5;28;43mself\u001b[39;49m\u001b[38;5;241;43m.\u001b[39;49m\u001b[43mix\u001b[49m\u001b[43m[\u001b[49m\u001b[43mitem\u001b[49m\u001b[43m]\u001b[49m, \u001b[38;5;28mself\u001b[39m\u001b[38;5;241m.\u001b[39muniverse)\n\u001b[0;32m    593\u001b[0m \u001b[38;5;28;01melse\u001b[39;00m:\n\u001b[0;32m    594\u001b[0m     \u001b[38;5;28;01mif\u001b[39;00m \u001b[38;5;28misinstance\u001b[39m(item, \u001b[38;5;28mlist\u001b[39m) \u001b[38;5;129;01mand\u001b[39;00m item:  \u001b[38;5;66;03m# check for empty list\u001b[39;00m\n\u001b[0;32m    595\u001b[0m         \u001b[38;5;66;03m# hack to make lists into numpy arrays\u001b[39;00m\n\u001b[0;32m    596\u001b[0m         \u001b[38;5;66;03m# important for boolean slicing\u001b[39;00m\n",
      "\u001b[1;31mIndexError\u001b[0m: index 2 is out of bounds for axis 0 with size 2"
     ]
    }
   ],
   "source": [
    "# read in each of the substrate files\n",
    "directory = 'substrates_initial/'\n",
    "file_names = [f for f in os.listdir(directory)]\n",
    "file_names = ['6.pdb']\n",
    "\n",
    "for curr_file_name in file_names:\n",
    "    print(curr_file_name)\n",
    "    # load substrate universe\n",
    "    file_start = curr_file_name.split('.')[0]\n",
    "    substrate = mda.Universe(directory+curr_file_name)\n",
    "    # identify the atoms that comprise the aka substrates \n",
    "    substrate_important_indexes = get_substrate_aka_indexes(substrate.atoms)\n",
    "        \n",
    "    indices_to_remove = [substrate_important_indexes['O1'],\n",
    "                         substrate_important_indexes['C3'],\n",
    "                         substrate_important_indexes['O2'],\n",
    "                         substrate_important_indexes['O3']]\n",
    "    # S denotes unbound susbtrate we are trying to align \n",
    "    C2S_coords = get_atom_position(substrate,substrate_important_indexes['C2'])\n",
    "    RS_coords = get_atom_position(substrate,substrate_important_indexes['R'])\n",
    "    initial_S_positions = np.array([C2S_coords,RS_coords])\n",
    "    if file_start == '7':\n",
    "        R_dist = bond_dists['C-N']\n",
    "    else:\n",
    "        R_dist = bond_dists['C-C']\n",
    "\n",
    "    guess_R_coords = C2_coords + C2R_unit * R_dist \n",
    "    final_donor_positions = np.array([C2_coords,guess_R_coords])\n",
    "    guess_RP_coords = C2P_coords + C2RP_unit * R_dist \n",
    "    final_acc_positions = np.array([C2P_coords,guess_RP_coords])\n",
    "\n",
    "    donor_aligned = align_and_update_positions(initial_S_positions,final_donor_positions,substrate)\n",
    "    # Select atoms to keep (all atoms excluding the ones in indices_to_remove)\n",
    "    mask = ~np.isin(donor_aligned.atoms.indices, indices_to_remove)\n",
    "    atoms_to_keep = donor_aligned.atoms[mask]\n",
    "    modified_donor = Merge(atoms_to_keep)\n",
    "    #write_universe(output_dir+file_start+'/', 'donor.pdb', modified_donor)\n",
    "    C2_new_index = find_atom_in_new_universe(modified_donor,C2_coords)\n",
    "    R_new_index = find_atom_in_new_universe(modified_donor,R_coords)\n",
    "    donor_atoms_to_rotate = [i for i in range(0,len(modified_donor.atoms)) if i not in [C2_new_index,R_new_index]]\n",
    "    rotated_donor = optimize_rotation(np.array(0),modified_donor.copy(),C2_new_index, R_new_index, donor_atoms_to_rotate,donor_normal,donor_centroid)\n",
    "\n",
    "    acc_aligned = align_and_update_positions(initial_S_positions,final_acc_positions,substrate)\n",
    "    # Select atoms to keep (all atoms excluding the ones in indices_to_remove)\n",
    "    mask = ~np.isin(acc_aligned.atoms.indices, indices_to_remove)\n",
    "    atoms_to_keep = acc_aligned.atoms[mask]\n",
    "    modified_acc = Merge(atoms_to_keep)\n",
    "    #write_universe(output_dir+file_start+'/', 'acc.pdb', modified_acc)\n",
    "    C2P_new_index = find_atom_in_new_universe(modified_acc,C2P_coords)\n",
    "    RP_new_index = find_atom_in_new_universe(modified_acc,RP_coords)\n",
    "    acc_atoms_to_rotate = [i for i in range(0,len(modified_acc.atoms)) if i not in [C2P_new_index,RP_new_index]]\n",
    "    rotated_acc = optimize_rotation(np.array(0),modified_acc.copy(),C2P_new_index, RP_new_index, acc_atoms_to_rotate,acc_normal,acc_centroid)\n",
    "    #write_universe(output_dir+file_start+'/', 'rotated_acc.pdb', rotated_acc)\n",
    "\n",
    "    inp = mda.Merge(inp_base.atoms,rotated_donor.atoms,rotated_acc.atoms)\n",
    "    for atom in inp.atoms:\n",
    "        atom.residue.resid = 1\n",
    "        atom.residue.resname = \"INP\"\n",
    "        atom.record_type = \"HETATM\"\n",
    "    write_universe(output_dir+file_start+'/', 'inp.pdb', inp)\n",
    "\n",
    "\n",
    "    complex = mda.Merge(inp.atoms,protein_MG_water.atoms)\n",
    "    write_universe(output_dir+file_start+'/', 'initial_complex.pdb', complex)\n",
    "    inp_donor_atoms_to_rotate = []\n",
    "    for i in donor_atoms_to_rotate:\n",
    "        new_index = find_atom_in_new_universe(complex,rotated_donor.atoms[i].position)\n",
    "        inp_donor_atoms_to_rotate.append(new_index)\n",
    "    C2_complex_index = find_atom_in_new_universe(complex,rotated_donor.atoms[C2_new_index].position) \n",
    "    R_complex_index = find_atom_in_new_universe(complex,rotated_donor.atoms[R_new_index].position) \n",
    "\n",
    "    inp_acc_atoms_to_rotate = []\n",
    "    for i in acc_atoms_to_rotate:\n",
    "        new_index = find_atom_in_new_universe(complex,rotated_acc.atoms[i].position)\n",
    "        inp_acc_atoms_to_rotate.append(new_index)\n",
    "    C2P_complex_index = find_atom_in_new_universe(complex,rotated_acc.atoms[C2P_new_index].position) \n",
    "    RP_complex_index = find_atom_in_new_universe(complex,rotated_acc.atoms[RP_new_index].position) \n",
    "\n",
    "    #final_angles = optimize_double_rotation([90,0],complex,[C2_complex_index,R_complex_index],[C2P_complex_index,RP_complex_index],inp_donor_atoms_to_rotate,inp_acc_atoms_to_rotate)\n",
    "    \n",
    "    angles1 = np.linspace(0, 360, 10)\n",
    "    angles2 = np.linspace(0, 360, 10)\n",
    "    obj_vals = np.array([[double_rotation_objective([a1, a2],complex,[C2_complex_index,R_complex_index],[C2P_complex_index,RP_complex_index],inp_donor_atoms_to_rotate,inp_acc_atoms_to_rotate) for a2 in angles2] for a1 in angles1])\n",
    "    min_indexes = np.unravel_index(np.argmin(obj_vals), obj_vals.shape)\n",
    "    rotated_donor_complex = rotate_atoms(complex.copy(), C2_complex_index,R_complex_index,inp_donor_atoms_to_rotate,angles1[min_indexes[0]])\n",
    "    rotated_complex = rotate_atoms(rotated_donor_complex.copy(), C2P_complex_index,RP_complex_index,inp_acc_atoms_to_rotate,angles2[min_indexes[1]])\n",
    "    write_universe(output_dir+file_start+'/', 'final_complex.pdb', rotated_complex)\n",
    "    inp_final = rotated_complex.select_atoms(\"resname INP\")\n",
    "    write_universe(output_dir+file_start+'/', 'inp_final.pdb', inp_final)\n",
    "\n"
   ]
  },
  {
   "cell_type": "code",
   "execution_count": 21,
   "metadata": {},
   "outputs": [],
   "source": [
    "tmp = rotated_donor.atoms[0:2] + rotated_donor.atoms[4:]\n",
    "\n",
    "    "
   ]
  },
  {
   "cell_type": "code",
   "execution_count": 22,
   "metadata": {},
   "outputs": [
    {
     "data": {
      "text/plain": [
       "MDAnalysis.core.groups.AtomGroup"
      ]
     },
     "execution_count": 22,
     "metadata": {},
     "output_type": "execute_result"
    }
   ],
   "source": [
    "type(tmp)\n"
   ]
  },
  {
   "cell_type": "code",
   "execution_count": 10,
   "metadata": {},
   "outputs": [
    {
     "data": {
      "text/plain": [
       "array([[ 7,  6,  6,  7,  6,  6,  5,  5,  5,  5,  5,  5,  5,  5,  5,  8,\n",
       "         8,  8, 10,  9,  8,  7,  7,  7,  8, 10, 10, 10,  9,  7],\n",
       "       [ 6,  5,  5,  6,  5,  5,  4,  4,  4,  4,  4,  4,  4,  4,  4,  7,\n",
       "         7,  7,  9,  8,  7,  6,  6,  6,  7,  9,  9,  9,  8,  6],\n",
       "       [ 5,  4,  4,  5,  4,  4,  3,  3,  3,  3,  3,  3,  3,  3,  3,  6,\n",
       "         6,  6,  8,  7,  6,  5,  5,  5,  6,  8,  8,  8,  7,  5],\n",
       "       [ 6,  5,  5,  6,  5,  5,  4,  4,  4,  4,  4,  4,  4,  4,  4,  7,\n",
       "         7,  7,  9,  8,  7,  6,  6,  6,  7,  9,  9,  9,  8,  6],\n",
       "       [ 7,  6,  6,  7,  6,  6,  5,  5,  5,  5,  5,  5,  5,  5,  5,  8,\n",
       "         8,  8, 10,  9,  8,  7,  7,  7,  8, 10, 10, 10,  9,  7],\n",
       "       [ 6,  5,  5,  6,  5,  5,  4,  4,  4,  4,  4,  4,  4,  4,  4,  7,\n",
       "         7,  7,  9,  8,  7,  6,  6,  6,  7,  9,  9,  9,  8,  6],\n",
       "       [ 6,  5,  5,  6,  5,  5,  4,  4,  4,  4,  4,  4,  4,  4,  4,  7,\n",
       "         7,  7,  9,  8,  7,  6,  6,  6,  7,  9,  9,  9,  8,  6],\n",
       "       [ 5,  4,  4,  5,  4,  4,  3,  3,  3,  3,  3,  3,  3,  3,  3,  6,\n",
       "         6,  6,  8,  7,  6,  5,  5,  5,  6,  8,  8,  8,  7,  5],\n",
       "       [ 5,  4,  4,  5,  4,  4,  3,  3,  3,  3,  3,  3,  3,  3,  3,  6,\n",
       "         6,  6,  8,  7,  6,  5,  5,  5,  6,  8,  8,  8,  7,  5],\n",
       "       [ 5,  4,  4,  5,  4,  4,  3,  3,  3,  3,  3,  3,  3,  3,  3,  6,\n",
       "         6,  6,  8,  7,  6,  5,  5,  5,  6,  8,  8,  8,  7,  5],\n",
       "       [ 8,  7,  7,  8,  7,  7,  6,  6,  6,  6,  6,  6,  6,  6,  6,  9,\n",
       "         9,  9, 11, 10,  9,  8,  8,  8,  9, 11, 11, 11, 10,  8],\n",
       "       [ 8,  7,  7,  8,  7,  7,  6,  6,  6,  6,  6,  6,  6,  6,  6,  9,\n",
       "         9,  9, 11, 10,  9,  8,  8,  8,  9, 11, 11, 11, 10,  8],\n",
       "       [ 7,  6,  6,  7,  6,  6,  5,  5,  5,  5,  5,  5,  5,  5,  5,  8,\n",
       "         8,  8, 10,  9,  8,  7,  7,  7,  8, 10, 10, 10,  9,  7],\n",
       "       [ 5,  4,  4,  5,  4,  4,  3,  3,  3,  3,  3,  3,  3,  3,  3,  6,\n",
       "         6,  6,  8,  7,  6,  5,  5,  5,  6,  8,  8,  8,  7,  5],\n",
       "       [ 6,  5,  5,  6,  5,  5,  4,  4,  4,  4,  4,  4,  4,  4,  4,  7,\n",
       "         7,  7,  9,  8,  7,  6,  6,  6,  7,  9,  9,  9,  8,  6],\n",
       "       [ 7,  6,  6,  6,  6,  6,  5,  5,  5,  5,  5,  5,  5,  5,  5,  8,\n",
       "         8,  8, 10,  9,  8,  7,  7,  7,  8, 10, 10, 10,  9,  7],\n",
       "       [ 8,  7,  6,  6,  6,  6,  6,  6,  6,  6,  6,  6,  6,  6,  6,  9,\n",
       "         9,  9, 11, 10,  9,  8,  8,  8,  9, 11, 11, 11, 10,  8],\n",
       "       [ 7,  6,  5,  5,  5,  5,  5,  5,  5,  5,  5,  5,  5,  5,  5,  8,\n",
       "         8,  8, 10,  9,  8,  7,  7,  7,  8, 10, 10, 10,  9,  7],\n",
       "       [ 8,  7,  6,  6,  6,  6,  6,  6,  6,  6,  6,  6,  6,  6,  6,  9,\n",
       "         9,  9, 11, 10,  9,  8,  8,  8,  9, 11, 11, 11, 10,  8],\n",
       "       [ 9,  8,  7,  7,  7,  7,  7,  7,  7,  7,  7,  7,  7,  7,  7, 10,\n",
       "        10, 10, 12, 11, 10,  9,  9,  9, 10, 12, 12, 12, 11,  9],\n",
       "       [ 9,  8,  8,  8,  8,  8,  7,  7,  7,  7,  7,  7,  7,  7,  7, 10,\n",
       "        10, 10, 12, 11, 10,  9,  9,  9, 10, 11, 11, 11, 10,  9],\n",
       "       [ 7,  6,  6,  7,  6,  6,  5,  5,  5,  5,  5,  5,  5,  5,  5,  8,\n",
       "         8,  8, 10,  9,  8,  7,  7,  7,  8, 10, 10, 10,  9,  7],\n",
       "       [ 6,  5,  5,  6,  5,  5,  4,  4,  4,  4,  4,  4,  4,  4,  4,  7,\n",
       "         7,  7,  9,  8,  7,  6,  6,  6,  7,  9,  9,  9,  8,  6],\n",
       "       [ 7,  6,  6,  7,  6,  6,  5,  5,  5,  5,  5,  5,  5,  5,  5,  8,\n",
       "         8,  8, 10,  9,  8,  7,  7,  7,  8, 10, 10, 10,  9,  7],\n",
       "       [ 9,  8,  8,  9,  8,  8,  7,  7,  7,  7,  7,  7,  7,  7,  7, 10,\n",
       "        10, 10, 12, 11, 10,  9,  9,  9, 10, 11, 11, 11, 10,  9],\n",
       "       [ 7,  6,  6,  7,  6,  6,  5,  5,  5,  5,  5,  5,  5,  5,  5,  8,\n",
       "         8,  8, 10,  9,  8,  7,  7,  7,  8, 10, 10, 10,  9,  7],\n",
       "       [ 7,  6,  6,  7,  6,  6,  5,  5,  5,  5,  5,  5,  5,  5,  5,  8,\n",
       "         8,  8, 10,  9,  8,  7,  7,  7,  8, 10, 10, 10,  9,  7],\n",
       "       [ 9,  8,  8,  9,  8,  8,  7,  7,  7,  7,  7,  7,  7,  7,  7, 10,\n",
       "        10, 10, 12, 11, 10,  9,  9,  9, 10, 12, 12, 12, 11,  9],\n",
       "       [ 7,  6,  6,  7,  6,  6,  5,  5,  5,  5,  5,  5,  5,  5,  5,  8,\n",
       "         8,  8, 10,  9,  8,  7,  7,  7,  8, 10, 10, 10,  9,  7],\n",
       "       [ 7,  6,  6,  7,  6,  6,  5,  5,  5,  5,  5,  5,  5,  5,  5,  8,\n",
       "         8,  8, 10,  9,  8,  7,  7,  7,  8, 10, 10, 10,  9,  7]])"
      ]
     },
     "execution_count": 10,
     "metadata": {},
     "output_type": "execute_result"
    }
   ],
   "source": [
    "obj_vals"
   ]
  },
  {
   "cell_type": "code",
   "execution_count": 11,
   "metadata": {},
   "outputs": [
    {
     "data": {
      "image/png": "[encoded data removed]",
      "text/plain": [
       "<Figure size 640x480 with 2 Axes>"
      ]
     },
     "metadata": {},
     "output_type": "display_data"
    }
   ],
   "source": [
    "plt.contourf(angles1, angles2, obj_vals, levels=50)\n",
    "plt.colorbar()\n",
    "plt.xlabel(\"Angle 1\")\n",
    "plt.ylabel(\"Angle 2\")\n",
    "plt.title(\"Objective Function Landscape\")\n",
    "plt.show()\n",
    "\n",
    "    "
   ]
  },
  {
   "cell_type": "code",
   "execution_count": 12,
   "metadata": {},
   "outputs": [
    {
     "data": {
      "text/plain": [
       "(2, 6)"
      ]
     },
     "execution_count": 12,
     "metadata": {},
     "output_type": "execute_result"
    }
   ],
   "source": [
    "min_index = np.unravel_index(np.argmin(obj_vals), obj_vals.shape)\n",
    "min_index"
   ]
  },
  {
   "cell_type": "code",
   "execution_count": 13,
   "metadata": {},
   "outputs": [
    {
     "data": {
      "text/plain": [
       "3"
      ]
     },
     "execution_count": 13,
     "metadata": {},
     "output_type": "execute_result"
    }
   ],
   "source": [
    "obj_vals[2,6]"
   ]
  },
  {
   "cell_type": "code",
   "execution_count": null,
   "metadata": {},
   "outputs": [],
   "source": []
  }
 ],
 "metadata": {
  "kernelspec": {
   "display_name": "md-env",
   "language": "python",
   "name": "python3"
  },
  "language_info": {
   "codemirror_mode": {
    "name": "ipython",
    "version": 3
   },
   "file_extension": ".py",
   "mimetype": "text/x-python",
   "name": "python",
   "nbconvert_exporter": "python",
   "pygments_lexer": "ipython3",
   "version": "3.12.5"
  }
 },
 "nbformat": 4,
 "nbformat_minor": 2
}

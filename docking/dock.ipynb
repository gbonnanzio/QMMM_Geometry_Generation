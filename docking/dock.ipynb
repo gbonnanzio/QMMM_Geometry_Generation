{
 "cells": [
  {
   "cell_type": "code",
   "execution_count": 1,
   "metadata": {},
   "outputs": [],
   "source": [
    "from vina import Vina\n",
    "import subprocess"
   ]
  },
  {
   "cell_type": "code",
   "execution_count": 3,
   "metadata": {},
   "outputs": [
    {
     "name": "stdout",
     "output_type": "stream",
     "text": [
      "Unable to assign MAP type to atom Mg\n",
      "Sorry, there are no Gasteiger parameters available for atom opt: : MG1113:MG\n",
      "Sorry, there are no Gasteiger parameters available for atom opt: :WAT1341:O\n",
      "Sorry, there are no Gasteiger parameters available for atom opt: :WAT1549:O\n"
     ]
    },
    {
     "data": {
      "text/plain": [
       "CompletedProcess(args=[\"./ADFR_prep_receptor.sh -r ../../5EJ5/dG_tests/XTB/int2/6/QM_Active_6/opt.pdb -U '' -o ini_receptor.pdbqt\"], returncode=0)"
      ]
     },
     "execution_count": 3,
     "metadata": {},
     "output_type": "execute_result"
    }
   ],
   "source": [
    "subprocess.run([\"./ADFR_prep_receptor.sh -r ../../5EJ5/dG_tests/XTB/int2/6/QM_Active_6/opt.pdb -U '' -o ini_receptor.pdbqt\"],shell=True)"
   ]
  },
  {
   "cell_type": "code",
   "execution_count": 7,
   "metadata": {},
   "outputs": [
    {
     "data": {
      "text/plain": [
       "CompletedProcess(args=[\"./ADFR_prep_lig.sh -l 6.pdb -U '' -o acc.pdbqt\"], returncode=0)"
      ]
     },
     "execution_count": 7,
     "metadata": {},
     "output_type": "execute_result"
    }
   ],
   "source": [
    "subprocess.run([\"./ADFR_prep_lig.sh -l 6.pdb -U '' -o acc.pdbqt\"],shell=True)"
   ]
  },
  {
   "cell_type": "code",
   "execution_count": 8,
   "metadata": {},
   "outputs": [
    {
     "name": "stdout",
     "output_type": "stream",
     "text": [
      "Computing Vina grid ... done.\n",
      "Performing docking (random seed: -1536121980) ... \n",
      "0%   10   20   30   40   50   60   70   80   90   100%\n",
      "|----|----|----|----|----|----|----|----|----|----|\n",
      "***************************************************\n",
      "\n",
      "mode |   affinity | dist from best mode\n",
      "     | (kcal/mol) | rmsd l.b.| rmsd u.b.\n",
      "-----+------------+----------+----------\n",
      "   1       -4.871          0          0\n",
      "   2       -4.839      1.243      4.237\n",
      "   3       -4.726       1.06      4.336\n",
      "   4       -4.713      1.789      4.347\n",
      "   5       -4.682      1.833       4.34\n",
      "   6       -4.678      1.698      4.288\n",
      "   7       -4.631      2.113      3.909\n",
      "   8       -4.589      1.931      2.707\n",
      "   9       -4.561      1.359      2.024\n",
      "  10       -4.524     0.8119      3.883\n"
     ]
    }
   ],
   "source": [
    "v = Vina(sf_name='vina')\n",
    "v.set_receptor('ini_receptor.pdbqt')#loaded receptor\n",
    "ligname = 'acc.pdbqt'\n",
    "v.set_ligand_from_file(ligname)\n",
    "v.compute_vina_maps(center=[-35.284, -35.845, 22.277], box_size=[12,12,12]) \n",
    "# Score the current pose\n",
    "v.dock(exhaustiveness=64, n_poses=10)\n",
    "writename = 'acc_docked.pdbqt'\n",
    "v.write_poses(writename, n_poses=10, overwrite=True)"
   ]
  },
  {
   "cell_type": "code",
   "execution_count": 13,
   "metadata": {},
   "outputs": [
    {
     "name": "stdout",
     "output_type": "stream",
     "text": [
      "Split 10 models into separate PDB files.\n"
     ]
    }
   ],
   "source": [
    "from openbabel import openbabel\n",
    "\n",
    "def split_pdbqt_to_pdb_with_acc(input_pdbqt, output_prefix=\"model\"):\n",
    "    \"\"\"\n",
    "    Splits a PDBQT file into separate PDB files for each model using Open Babel\n",
    "    and labels all residues as 'ACC'.\n",
    "\n",
    "    Parameters:\n",
    "    - input_pdbqt: Path to the input PDBQT file.\n",
    "    - output_prefix: Prefix for the output PDB files.\n",
    "    \"\"\"\n",
    "    obconversion = openbabel.OBConversion()\n",
    "    obconversion.SetInAndOutFormats(\"pdbqt\", \"pdb\")\n",
    "\n",
    "    mol = openbabel.OBMol()\n",
    "    obconversion.ReadFile(mol, input_pdbqt)  # Read the PDBQT file\n",
    "\n",
    "    model_count = 0\n",
    "    while True:\n",
    "        # Change the residue name to 'ACC'\n",
    "        for res in openbabel.OBResidueIter(mol):\n",
    "            res.SetResidueName(\"ACC\")\n",
    "        \n",
    "        # Write the current molecule to a new PDB file\n",
    "        output_filename = f\"{output_prefix}_{model_count:03d}.pdb\"\n",
    "        with open(output_filename, \"w\") as outfile:\n",
    "            obconversion.WriteFile(mol, output_filename)\n",
    "        model_count += 1\n",
    "\n",
    "        # Read the next model\n",
    "        if not obconversion.Read(mol):\n",
    "            break\n",
    "\n",
    "    print(f\"Split {model_count} models into separate PDB files with residues labeled as 'ACC'.\")\n",
    "\n",
    "# Example usage:\n",
    "split_pdbqt_to_pdb(\"acc_docked.pdbqt\")\n"
   ]
  },
  {
   "cell_type": "code",
   "execution_count": null,
   "metadata": {},
   "outputs": [],
   "source": []
  }
 ],
 "metadata": {
  "kernelspec": {
   "display_name": "research",
   "language": "python",
   "name": "python3"
  },
  "language_info": {
   "codemirror_mode": {
    "name": "ipython",
    "version": 3
   },
   "file_extension": ".py",
   "mimetype": "text/x-python",
   "name": "python",
   "nbconvert_exporter": "python",
   "pygments_lexer": "ipython3",
   "version": "0.0.0"
  }
 },
 "nbformat": 4,
 "nbformat_minor": 2
}

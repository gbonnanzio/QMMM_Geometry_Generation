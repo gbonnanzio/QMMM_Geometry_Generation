{
 "cells": [
  {
   "cell_type": "code",
   "execution_count": 1,
   "metadata": {},
   "outputs": [
    {
     "name": "stderr",
     "output_type": "stream",
     "text": [
      "c:\\Users\\gbonn\\anaconda3\\envs\\md-env\\Lib\\site-packages\\tqdm\\auto.py:21: TqdmWarning: IProgress not found. Please update jupyter and ipywidgets. See https://ipywidgets.readthedocs.io/en/stable/user_install.html\n",
      "  from .autonotebook import tqdm as notebook_tqdm\n"
     ]
    }
   ],
   "source": [
    "import MDAnalysis as mda\n",
    "import numpy as np\n",
    "import os\n",
    "from utils import *\n"
   ]
  },
  {
   "cell_type": "code",
   "execution_count": 2,
   "metadata": {},
   "outputs": [],
   "source": [
    "# read in each of the substrate files\n",
    "directory = 'substrates_initial/'\n",
    "file_names = [f for f in os.listdir(directory)]\n",
    "file_names = ['18.pdb']\n",
    "# Defined in the array below are the distances away from ThDP atoms to substrate atoms \n",
    "# determine by the optimized structure of substrate 6 and are used to place the aka head atoms\n",
    "# radii are in order of (columns) C1, N1, N2, S1 and then rows (C2, C3, O1) \n",
    "# so C1 is (0,0) Angstroms away from C2 \n",
    "radii = [\n",
    "    [1.539,2.562,3.389,2.880],\n",
    "    [2.533,3.205,4.764,3.784],\n",
    "    [2.393,2.973,2.592,3.893]\n",
    "]"
   ]
  },
  {
   "cell_type": "code",
   "execution_count": 3,
   "metadata": {},
   "outputs": [
    {
     "name": "stderr",
     "output_type": "stream",
     "text": [
      "c:\\Users\\gbonn\\anaconda3\\envs\\md-env\\Lib\\site-packages\\MDAnalysis\\coordinates\\PDB.py:777: UserWarning: Unit cell dimensions not found. CRYST1 record set to unitary values.\n",
      "  warnings.warn(\"Unit cell dimensions not found. \"\n",
      "c:\\Users\\gbonn\\anaconda3\\envs\\md-env\\Lib\\site-packages\\MDAnalysis\\coordinates\\PDB.py:1153: UserWarning: Found no information for attr: 'formalcharges' Using default value of '0'\n",
      "  warnings.warn(\"Found no information for attr: '{}'\"\n",
      "c:\\Users\\gbonn\\anaconda3\\envs\\md-env\\Lib\\site-packages\\MDAnalysis\\coordinates\\PDB.py:1200: UserWarning: Found missing chainIDs. Corresponding atoms will use value of 'X'\n",
      "  warnings.warn(\"Found missing chainIDs.\"\n"
     ]
    }
   ],
   "source": [
    "# load receptor universe and extract ThDP atoms \n",
    "receptor = mda.Universe('int1_receptor.pdb')\n",
    "ThDP_residue = receptor.select_atoms(\"resname TPP\")\n",
    "\n",
    "# Save the updated universe to a new PDB file\n",
    "output_filename = 'substrates_aligned/ThDP_alone.pdb'\n",
    "ThDP_residue.atoms.write(output_filename)\n",
    "\n",
    "ThDP_important_indexes = get_ThDP_indexes(ThDP_residue)\n",
    "\n",
    "# get the coordinates of important atoms in ThDP\n",
    "C1_coords = get_atom_position(ThDP_residue,ThDP_important_indexes['C1'])\n",
    "N1_coords = get_atom_position(ThDP_residue,ThDP_important_indexes['N1'])\n",
    "N2_coords = get_atom_position(ThDP_residue,ThDP_important_indexes['N2'])\n",
    "S1_coords = get_atom_position(ThDP_residue,ThDP_important_indexes['S1'])\n",
    "\n",
    "# ThDP C1, N1, N2, S1 atom coords that will be treated as sphere centers \n",
    "centers = np.array([C1_coords,N1_coords,N2_coords,S1_coords])\n",
    "\n",
    "# we will use the average vector of S1C1 and N1C1 to get a guess of where C2 should be located\n",
    "vector_S1_to_C1 = C1_coords - S1_coords\n",
    "vector_N1_to_C1 = C1_coords - N1_coords\n",
    "avg_vector = (vector_S1_to_C1 + vector_N1_to_C1)/2\n",
    "unit_vector = avg_vector / np.linalg.norm(avg_vector)\n",
    "guess_C2 = C1_coords + unit_vector * 1.54 # C2 should be located 1.54 A away from C1\n"
   ]
  },
  {
   "cell_type": "code",
   "execution_count": 5,
   "metadata": {},
   "outputs": [
    {
     "name": "stdout",
     "output_type": "stream",
     "text": [
      "NOT CONVERGED\n",
      "CONVERGED\n",
      "Final points: [-34.94014025 -36.07518795  22.18527961] [-34.57235262 -37.60205263  22.58615327] [-34.04679877 -35.58955324  21.27459049]\n",
      "CONVERGED\n"
     ]
    },
    {
     "name": "stderr",
     "output_type": "stream",
     "text": [
      "c:\\Users\\gbonn\\anaconda3\\envs\\md-env\\Lib\\site-packages\\MDAnalysis\\coordinates\\PDB.py:777: UserWarning: Unit cell dimensions not found. CRYST1 record set to unitary values.\n",
      "  warnings.warn(\"Unit cell dimensions not found. \"\n",
      "c:\\Users\\gbonn\\anaconda3\\envs\\md-env\\Lib\\site-packages\\MDAnalysis\\coordinates\\PDB.py:1153: UserWarning: Found no information for attr: 'formalcharges' Using default value of '0'\n",
      "  warnings.warn(\"Found no information for attr: '{}'\"\n",
      "c:\\Users\\gbonn\\anaconda3\\envs\\md-env\\Lib\\site-packages\\MDAnalysis\\coordinates\\PDB.py:1200: UserWarning: Found missing chainIDs. Corresponding atoms will use value of 'X'\n",
      "  warnings.warn(\"Found missing chainIDs.\"\n"
     ]
    }
   ],
   "source": [
    "\n",
    "# iterate through all substrates to align to the int1 geometry\n",
    "for curr_file_name in file_names:\n",
    "    # load substrate universe\n",
    "    file_start = curr_file_name.split('.')[0]\n",
    "    substrate = mda.Universe(directory+curr_file_name)\n",
    "    # identify the atoms that comprise the aka substrates \n",
    "    substrate_important_indexes = get_substrate_aka_indexes(substrate)\n",
    "    # initial coords of C2, C3, and O1 \n",
    "    initial_positions = [get_atom_position(substrate,substrate_important_indexes['C2']),get_atom_position(substrate,substrate_important_indexes['C3']),get_atom_position(substrate,substrate_important_indexes['O1'])]\n",
    "\n",
    "    # we go through two rounds of optimization, first using the guess location of \n",
    "    # C2 as the starting position for each atom we are trying to place (C2,C3,O1) \n",
    "    initial_guess = np.hstack([guess_C2 for i in range(3)])\n",
    "    C2_optimized, C3_optimized, O1_optimized = optimize_points(centers, initial_guess, radii)\n",
    "    all_optimized = [C2_optimized, C3_optimized, O1_optimized]\n",
    "\n",
    "    # get the final error for each atom's position \n",
    "    C2_err = atom_objective(C2_optimized, centers, radii[0])\n",
    "    C3_err = atom_objective(C3_optimized, centers, radii[1])\n",
    "    O1_err = atom_objective(O1_optimized, centers, radii[2])\n",
    "\n",
    "    # use the atom with the minimum error for the next round of optimization\n",
    "    all_errors = [C2_err,C3_err,O1_err]\n",
    "    min_error_index = all_errors.index(min(all_errors))\n",
    "    redo_initial_guess = np.hstack([all_optimized[min_error_index] for i in range(3)])\n",
    "    C2_reoptimized, C3_reoptimized, O1_reoptimized = optimize_points(centers, redo_initial_guess, radii)\n",
    "    \n",
    "    print(\"Final points:\", C2_reoptimized, C3_reoptimized, O1_reoptimized)\n",
    "    final_positions = [C2_reoptimized, C3_reoptimized, O1_reoptimized]\n",
    "\n",
    "    # Get the rotation and translation matrix from our initial substrate to our int1 geoemtry\n",
    "    R, t = kabsch_algorithm(initial_positions,final_positions)\n",
    "    \n",
    "    # make a copy of the substrate object and update atom positions by aligning aka head atoms\n",
    "    substrate_aka_aligned = substrate.copy()\n",
    "    for i in range(0,len(substrate_aka_aligned.atoms.positions)):\n",
    "        atom_coords = substrate_aka_aligned.atoms[i].position\n",
    "        new_coords = np.dot(R, atom_coords) + t\n",
    "        substrate_aka_aligned.atoms[i].position = new_coords\n",
    "\n",
    "    #output_filename = 'substrates_aligned/' + file_start +'_aka_aligned_int1.pdb'\n",
    "    #substrate_aka_aligned.atoms.write(output_filename)\n",
    "    # get the updated coords for important atoms \n",
    "    C2_coords = substrate_aka_aligned.atoms.positions[substrate_important_indexes['C2']]\n",
    "    O1_coords = substrate_aka_aligned.atoms.positions[substrate_important_indexes['O1']]\n",
    "    C3_coords = substrate_aka_aligned.atoms.positions[substrate_important_indexes['C3']]\n",
    "    R_coords =  substrate_aka_aligned.atoms.positions[substrate_important_indexes['R']]\n",
    "\n",
    "    # target angles represents the optimized angles of C1-C2-R ,O1-C2-R ,C3-C2-R\n",
    "    # we will use these to help us reposition the R group first atom \n",
    "    target_angles = [111.1,110.2,107.5]\n",
    "    R_coords_opt = optimize_angles(R_coords,C1_coords,C2_coords,O1_coords,C3_coords,target_angles)\n",
    "\n",
    "    # get a translation matrix \n",
    "    t_R = R_coords_opt-R_coords\n",
    "    R_tail, t_tail = kabsch_algorithm([R_coords,C2_coords],[R_coords_opt,C2_coords])\n",
    "    \n",
    "    substrate_tail_atom_indexes = [i for i in range(0,len(substrate.atoms)) if i not in substrate_important_indexes.values()]\n",
    "    substrate_tail_atom_indexes.append(substrate_important_indexes['R'])\n",
    "\n",
    "    # make a copy of the substrate object and update atom positions by aligning aka head atoms\n",
    "    substrate_aligned = substrate_aka_aligned.copy()\n",
    "    for i in range(0,len(substrate_aligned.atoms.positions)):\n",
    "        if i in substrate_tail_atom_indexes:\n",
    "            atom_coords = substrate_aligned.atoms[i].position\n",
    "            new_coords = np.dot(R_tail, atom_coords) + t_tail\n",
    "            substrate_aligned.atoms[i].position = new_coords\n",
    "\n",
    "    # Save the updated universe to a new PDB file\n",
    "    output_filename = 'substrates_aligned/' + file_start +'_substrate.pdb'\n",
    "    substrate_aligned.atoms.write(output_filename)\n",
    "\n",
    "\n",
    "    # Example usage\n",
    "    # Assuming you have a universe object `u`, and you want to rotate around the bond between atoms 0 and 1\n",
    "    # Rotate atoms in `atom_list` by 45 degrees\n",
    "    atom1_index = substrate_important_indexes['C2']  # Change as needed\n",
    "    atom2_index = substrate_important_indexes['R']  # Change as needed\n",
    "    substrate_tail_atom_indexes.remove(atom2_index)\n",
    "    atoms_to_rotate =  substrate_tail_atom_indexes # Example list of atoms to be rotated\n",
    "    rotation_angle = 90  # Angle in degrees\n",
    "\n",
    "    rotate_atoms(substrate_aligned, atom1_index, atom2_index, atoms_to_rotate, rotation_angle)\n",
    "\n",
    "    # Save the modified structure\n",
    "    substrate_aligned.atoms.write(\"rotated_structure.pdb\")\n",
    "\n",
    "\n",
    "    merged_universe = mda.Merge(substrate_aligned.atoms,ThDP_residue.atoms)\n",
    "    \n",
    "    for atom in merged_universe.atoms:\n",
    "        atom.residue.resid = 1\n",
    "        atom.residue.resname = \"INI\"\n",
    "        atom.record_type = \"HETATM\"\n",
    "    merged_universe.atoms.write('substrates_aligned/' + file_start +'_ini.pdb')"
   ]
  },
  {
   "cell_type": "code",
   "execution_count": null,
   "metadata": {},
   "outputs": [],
   "source": []
  }
 ],
 "metadata": {
  "kernelspec": {
   "display_name": "md-env",
   "language": "python",
   "name": "python3"
  },
  "language_info": {
   "codemirror_mode": {
    "name": "ipython",
    "version": 3
   },
   "file_extension": ".py",
   "mimetype": "text/x-python",
   "name": "python",
   "nbconvert_exporter": "python",
   "pygments_lexer": "ipython3",
   "version": "3.12.5"
  }
 },
 "nbformat": 4,
 "nbformat_minor": 2
}

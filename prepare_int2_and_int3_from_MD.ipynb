{
 "cells": [
  {
   "cell_type": "code",
   "execution_count": 1,
   "metadata": {},
   "outputs": [
    {
     "name": "stderr",
     "output_type": "stream",
     "text": [
      "c:\\Users\\gbonn\\anaconda3\\envs\\md-env\\Lib\\site-packages\\tqdm\\auto.py:21: TqdmWarning: IProgress not found. Please update jupyter and ipywidgets. See https://ipywidgets.readthedocs.io/en/stable/user_install.html\n",
      "  from .autonotebook import tqdm as notebook_tqdm\n"
     ]
    }
   ],
   "source": [
    "import MDAnalysis as mda\n",
    "import numpy as np\n",
    "import shutil\n",
    "import csv\n",
    "from utils import *\n",
    "import warnings \n",
    "\n",
    "# Suppress warnings specific to MDAnalysis\n",
    "warnings.filterwarnings(\"ignore\", category=UserWarning, module=\"MDAnalysis\")"
   ]
  },
  {
   "cell_type": "code",
   "execution_count": 2,
   "metadata": {},
   "outputs": [
    {
     "name": "stdout",
     "output_type": "stream",
     "text": [
      "File 'initial.pdb' has been written in 'temp_structures/prep/'.\n",
      "Edited  temp_structures/prep/initial.pdb  for Amber\n",
      "Taking best guess at ring N\n",
      "Taking best guess at carbanion\n",
      "C2 coords: [[54.607 60.293 69.703]]\n",
      "C1 coords: [[55.618 59.733 70.757]]\n"
     ]
    }
   ],
   "source": [
    "# load receptor universe and extract the different parts of the protein int1 receptor \n",
    "head_dir = 'temp_structures/'\n",
    "\n",
    "# dictionary of charged protein residues with key being the Amber resname and the value being the net charge of that residue\n",
    "residue_charge_dict = {'ARG':1,'LYS':1,'HIP':1,'ASP':-1,'GLU':-1,'MG':2}\n",
    "\n",
    "# specify active atoms\n",
    "by_dist = True \n",
    "QM_sphere_r = 2 # Angstroms (a value of 2 will give only the ThDP intermediate (auto adds MG))\n",
    "active_sphere_r = 8\n",
    "water_sphere_r = 12\n",
    "    \n",
    "# TODO calculate protein charge automatically (or read it in from leap.log file)\n",
    "base_charge = -4 # inp without accounting for R groups, you will never need to change this for INP      \n",
    "intermediate = 'INP'\n",
    "\n",
    "all_substrates = ['6']\n",
    "for curr_substrate in all_substrates:\n",
    "    \n",
    "    donor_substrate = curr_substrate\n",
    "    acceptor_substrate = curr_substrate\n",
    "    \n",
    "    complex = mda.Universe(head_dir+'aligned_last_frame.pdb')\n",
    "    \n",
    "    # get all atoms near the protein excluding NaCl\n",
    "    trimmed_complex_initial = complex.select_atoms(\"(protein or resname INP or resname MG) or ((around 3.0 protein) and resname WAT)\").residues\n",
    "    # Renumber residues manually\n",
    "    for i, residue in enumerate(trimmed_complex_initial):\n",
    "        residue.resid = i + 1  # Assign new resid starting from 1\n",
    "    \n",
    "    #output_dir = '/projects/p30041/gbf4422/sensitivity_testing/water_test/additional_active_shell/WATER_3.0/'\n",
    "    output_dir = 'temp_structures/'\n",
    "    write_universe(output_dir + 'prep/','initial.pdb',trimmed_complex_initial)\n",
    "    edit_protein_files(output_dir + 'prep/','initial.pdb')\n",
    "\n",
    "    trimmed_complex = mda.Universe(output_dir + 'prep/initial.pdb')\n",
    "    \n",
    "    if acceptor_substrate in ['4','6','11','16']:\n",
    "        additional_charge = -1\n",
    "    else:\n",
    "        additional_charge = 0\n",
    "    # add the charge of the intermediate complex\n",
    "    if donor_substrate in ['4','6','11','16']:\n",
    "        additional_charge += -1\n",
    "    residue_charge_dict[intermediate] = base_charge + additional_charge\n",
    "    MM_charge = 0\n",
    "    for residue in trimmed_complex.residues:\n",
    "        curr_resname = residue.resname\n",
    "        if curr_resname in residue_charge_dict:\n",
    "            MM_charge += residue_charge_dict[curr_resname]\n",
    "\n",
    "    inp = trimmed_complex.select_atoms(\"resname \" + intermediate)\n",
    "    # get the carbonyl carbon of the substrate\n",
    "    #atom_dict = get_substrate_aka_indexes(ini)\n",
    "    atom_dict = get_inp_indexes(inp)\n",
    "    C2_index = atom_dict['C2']\n",
    "    C2_id = inp.atoms[C2_index].index\n",
    "    C2_atom = trimmed_complex.select_atoms(\"index \" +  str(C2_id))\n",
    "\n",
    "    #QM_residues, active_residues, QM_atoms_indexes,active_atoms_indexes,fixed_atoms_indexes = get_atoms_by_distance(trimmed_complex,QM_sphere_r,active_sphere_r,C2_id)\n",
    "    \n",
    "    QM_residues, active_residues, QM_atoms_indexes,active_atoms_indexes,fixed_atoms_indexes = get_water_by_distance(trimmed_complex,QM_sphere_r,active_sphere_r,water_sphere_r,C2_id)\n",
    "    \n",
    "    QM_residues_resids = [residue.resid for residue in QM_residues]\n",
    "    active_residues_resids = [residue.resid for residue in active_residues]\n",
    "    \n",
    "    # simplify lists to write to file\n",
    "    QM_list = simplify_integer_list(QM_atoms_indexes)\n",
    "    active_list = simplify_integer_list(active_atoms_indexes)\n",
    "    # calculate the charge of our system\n",
    "    total_QM_charge = 0\n",
    "    # get charge of QM region \n",
    "    for residue in QM_residues:\n",
    "        resname = residue.resname\n",
    "        if resname in residue_charge_dict:\n",
    "            total_QM_charge += residue_charge_dict[resname]\n",
    "\n",
    "    qm_complex_output_dir = output_dir + 'QM_' + str(QM_sphere_r) + '_Active_' + str(active_sphere_r) + '/'\n",
    "    #write_MM_orca_script(active_list,MM_charge,output_dir+'MM_Opt_Active_10/')\n",
    "    shutil.copy(head_dir + curr_substrate + '/prep/INP.mol2', output_dir + 'prep/INP.mol2')\n",
    "    shutil.copy(head_dir + curr_substrate + '/prep/INP.frcmod', output_dir + '/prep/INP.frcmod')\n",
    "\n",
    "\n",
    "    write_QMMM_orca_script(QM_list,active_list,total_QM_charge,qm_complex_output_dir)\n",
    "    #shutil.copy(qm_complex_file_dir + '/qm_complex.ORCAFF.prms', qm_complex_output_dir + 'qm_complex.ORCAFF.prms')\n",
    "    #shutil.copy(qm_complex_file_dir + '/qm_complex.pdb', qm_complex_output_dir + 'qm_complex.pdb')\n",
    "    shutil.copy('scripts/template_orca_job_expanse.sh', qm_complex_output_dir + 'orca_job_expanse.sh')\n",
    "    write_resids_to_csv(qm_complex_output_dir,f'QM_{QM_sphere_r}_and_{active_sphere_r}A_Active_residues.csv',QM_residues_resids,active_residues_resids)"
   ]
  },
  {
   "cell_type": "code",
   "execution_count": 6,
   "metadata": {},
   "outputs": [
    {
     "name": "stdout",
     "output_type": "stream",
     "text": [
      "[[56.8   58.293 74.32 ]]\n"
     ]
    }
   ],
   "source": [
    "print(C2_atom.atoms.positions)\n"
   ]
  },
  {
   "cell_type": "code",
   "execution_count": 3,
   "metadata": {},
   "outputs": [],
   "source": [
    "def read_resids_from_csv(file_path):\n",
    "    unique_lists = []\n",
    "    \n",
    "    # Read the CSV file\n",
    "    with open(file_path, 'r') as csv_file:\n",
    "        reader = csv.reader(csv_file)\n",
    "        \n",
    "        # Process each row, omitting the first column and ensuring uniqueness\n",
    "        for row in reader:\n",
    "            unique_lists.append(list(set(row[1:])))  # Skip the first column and ensure uniqueness\n",
    "\n",
    "    QM_resids = unique_lists[0]\n",
    "    QM_resids = [int(i) for i in QM_resids]\n",
    "    \n",
    "    active_resids = unique_lists[1]\n",
    "    active_resids = [int(i) for i in active_resids]\n",
    "    return QM_resids, active_resids"
   ]
  },
  {
   "cell_type": "code",
   "execution_count": 5,
   "metadata": {},
   "outputs": [
    {
     "name": "stdout",
     "output_type": "stream",
     "text": [
      "File 'inp.pdb' has been written in '/projects/p30041/gbf4422/5EJ5/int3_R/1/QMMM/int2/prep/'.\n",
      "File 'receptor.pdb' has been written in '/projects/p30041/gbf4422/5EJ5/int3_R/1/QMMM/int2/prep/'.\n",
      "Edited  /projects/p30041/gbf4422/5EJ5/int3_R/1/QMMM/int2/prep/receptor.pdb  for Amber\n",
      "File 'inp.pdb' has been written in '/projects/p30041/gbf4422/5EJ5/int3_R/2/QMMM/int2/prep/'.\n",
      "File 'receptor.pdb' has been written in '/projects/p30041/gbf4422/5EJ5/int3_R/2/QMMM/int2/prep/'.\n",
      "Edited  /projects/p30041/gbf4422/5EJ5/int3_R/2/QMMM/int2/prep/receptor.pdb  for Amber\n",
      "File 'inp.pdb' has been written in '/projects/p30041/gbf4422/5EJ5/int3_R/3/QMMM/int2/prep/'.\n",
      "File 'receptor.pdb' has been written in '/projects/p30041/gbf4422/5EJ5/int3_R/3/QMMM/int2/prep/'.\n",
      "Edited  /projects/p30041/gbf4422/5EJ5/int3_R/3/QMMM/int2/prep/receptor.pdb  for Amber\n",
      "File 'inp.pdb' has been written in '/projects/p30041/gbf4422/5EJ5/int3_R/5/QMMM/int2/prep/'.\n",
      "File 'receptor.pdb' has been written in '/projects/p30041/gbf4422/5EJ5/int3_R/5/QMMM/int2/prep/'.\n",
      "Edited  /projects/p30041/gbf4422/5EJ5/int3_R/5/QMMM/int2/prep/receptor.pdb  for Amber\n",
      "File 'inp.pdb' has been written in '/projects/p30041/gbf4422/5EJ5/int3_R/6/QMMM/int2/prep/'.\n",
      "File 'receptor.pdb' has been written in '/projects/p30041/gbf4422/5EJ5/int3_R/6/QMMM/int2/prep/'.\n",
      "Edited  /projects/p30041/gbf4422/5EJ5/int3_R/6/QMMM/int2/prep/receptor.pdb  for Amber\n",
      "File 'inp.pdb' has been written in '/projects/p30041/gbf4422/5EJ5/int3_R/9/QMMM/int2/prep/'.\n",
      "File 'receptor.pdb' has been written in '/projects/p30041/gbf4422/5EJ5/int3_R/9/QMMM/int2/prep/'.\n",
      "Edited  /projects/p30041/gbf4422/5EJ5/int3_R/9/QMMM/int2/prep/receptor.pdb  for Amber\n",
      "File 'inp.pdb' has been written in '/projects/p30041/gbf4422/5EJ5/int3_R/10/QMMM/int2/prep/'.\n",
      "File 'receptor.pdb' has been written in '/projects/p30041/gbf4422/5EJ5/int3_R/10/QMMM/int2/prep/'.\n",
      "Edited  /projects/p30041/gbf4422/5EJ5/int3_R/10/QMMM/int2/prep/receptor.pdb  for Amber\n"
     ]
    }
   ],
   "source": [
    "# load receptor universe and extract the different parts of the protein int1 receptor \n",
    "head_dir = '/projects/p30041/gbf4422/5EJ5/int3_R/'\n",
    "\n",
    "# dictionary of charged protein residues with key being the Amber resname and the value being the net charge of that residue\n",
    "residue_charge_dict = {'ARG':1,'LYS':1,'HIP':1,'ASP':-1,'GLU':-1,'MG':2}\n",
    "\n",
    "# specify active atoms\n",
    "by_dist = True \n",
    "QM_sphere_r = 2 # Angstroms (a value of 2 will give only the ThDP intermediate (auto adds MG))\n",
    "active_sphere_r = 10\n",
    "    \n",
    "# TODO calculate protein charge automatically (or read it in from leap.log file)\n",
    "base_charge = -3 # ino without accounting for R groups, you will never need to change this for INP      \n",
    "intermediate = 'INP'\n",
    "\n",
    "all_substrates = ['6']\n",
    "for curr_substrate in all_substrates:\n",
    "    \n",
    "    donor_substrate = curr_substrate\n",
    "    complex = mda.Universe(head_dir+curr_substrate+'/QMMM/int2/prep/initial.pdb')\n",
    "    output_dir = head_dir + curr_substrate + '/QMMM/int2/prep/'\n",
    "    \n",
    "    if donor_substrate in ['4','6','11','16']:\n",
    "        additional_charge = -1\n",
    "    else:\n",
    "        additional_charge = 0\n",
    "\n",
    "    residue_charge_dict[intermediate] = base_charge + additional_charge\n",
    "    MM_charge = 0\n",
    "    for residue in complex.residues:\n",
    "        curr_resname = residue.resname\n",
    "        if curr_resname in residue_charge_dict:\n",
    "            MM_charge += residue_charge_dict[curr_resname]\n",
    "\n",
    "    # get the QM atoms and residues (automatically includes Mg2+)\n",
    "    # get INP atoms \n",
    "    inp = complex.select_atoms(\"resname \" + intermediate)\n",
    "    write_universe(output_dir,'inp.pdb',inp)\n",
    "    \n",
    "    receptor = complex.select_atoms(\"not resname \" + intermediate)\n",
    "    write_universe(output_dir,'receptor.pdb',receptor)\n",
    "    edit_protein_files(output_dir  ,'receptor.pdb')\n",
    "\n",
    "    "
   ]
  },
  {
   "cell_type": "code",
   "execution_count": 12,
   "metadata": {},
   "outputs": [
    {
     "name": "stdout",
     "output_type": "stream",
     "text": [
      "Directory '/projects/p30041/gbf4422/5EJ5/int3_R/0/QMMM/int2/QM_2_Active_6/' does not exist. Creating it...\n",
      "Complex QM/MM File processed and saved as /projects/p30041/gbf4422/5EJ5/int3_R/0/QMMM/int2/QM_2_Active_6/opt.inp\n"
     ]
    }
   ],
   "source": [
    "all_substrates = ['0']\n",
    "for curr_substrate in all_substrates:\n",
    "    \n",
    "    donor_substrate = curr_substrate\n",
    "    complex = mda.Universe(head_dir+curr_substrate+'/QMMM/int2/prep/qm_complex.pdb')\n",
    "    \n",
    "    output_dir = head_dir + curr_substrate + '/QMMM/int2/QM_2_Active_6/'\n",
    "\n",
    "    if donor_substrate in ['4','6','11','16']:\n",
    "        additional_charge = -1\n",
    "    else:\n",
    "        additional_charge = 0\n",
    "\n",
    "    residue_charge_dict[intermediate] = base_charge + additional_charge\n",
    "      \n",
    "    # Example usage\n",
    "    file_path = head_dir+curr_substrate+'/QMMM/int3/QM_2_and_6A_Active_residues.csv'  # Replace with your file path\n",
    "    QM_resids, active_resids = read_resids_from_csv(file_path)\n",
    "\n",
    "    QM_atoms = complex.select_atoms('resid ' + ' or resid '.join([str(i) for i in QM_resids]))\n",
    "    QM_residues = set([i.residue for i in QM_atoms])\n",
    "    active_atoms = complex.select_atoms('resid ' + ' or resid '.join([str(i) for i in active_resids]))\n",
    "    active_residues = set([i.residue for i in active_atoms])\n",
    "    QM_atoms_indexes = get_atoms_by_reslist(complex,QM_resids)\n",
    "    active_atoms_indexes = get_atoms_by_reslist(complex,active_resids)\n",
    "    QM_residues_resids = QM_resids\n",
    "    active_residues_resids = active_resids\n",
    "\n",
    "    # simplify lists to write to file\n",
    "    QM_list = simplify_integer_list(QM_atoms_indexes)\n",
    "    active_list = simplify_integer_list(active_atoms_indexes)\n",
    "    # calculate the charge of our system\n",
    "    total_QM_charge = 0\n",
    "    # get charge of QM region \n",
    "    for residue in QM_residues:\n",
    "        resname = residue.resname\n",
    "        if resname in residue_charge_dict:\n",
    "            total_QM_charge += residue_charge_dict[resname]\n",
    "\n",
    "\n",
    "    write_QMMM_orca_script(QM_list,active_list,total_QM_charge,output_dir)\n",
    "    shutil.copy(head_dir+curr_substrate+'/QMMM/int2/prep/' + 'qm_complex.ORCAFF.prms', output_dir  + 'qm_complex.ORCAFF.prms')\n",
    "    shutil.copy(head_dir+curr_substrate+'/QMMM/int2/prep/' + 'qm_complex.pdb', output_dir  + 'qm_complex.pdb')\n",
    "    shutil.copy('scripts/template_orca_job_expanse.sh', output_dir + 'orca_job_expanse.sh')"
   ]
  },
  {
   "cell_type": "code",
   "execution_count": null,
   "metadata": {},
   "outputs": [],
   "source": [
    "\n"
   ]
  },
  {
   "cell_type": "code",
   "execution_count": null,
   "metadata": {},
   "outputs": [],
   "source": []
  }
 ],
 "metadata": {
  "kernelspec": {
   "display_name": "md-env",
   "language": "python",
   "name": "python3"
  },
  "language_info": {
   "codemirror_mode": {
    "name": "ipython",
    "version": 3
   },
   "file_extension": ".py",
   "mimetype": "text/x-python",
   "name": "python",
   "nbconvert_exporter": "python",
   "pygments_lexer": "ipython3",
   "version": "3.12.5"
  }
 },
 "nbformat": 4,
 "nbformat_minor": 2
}
